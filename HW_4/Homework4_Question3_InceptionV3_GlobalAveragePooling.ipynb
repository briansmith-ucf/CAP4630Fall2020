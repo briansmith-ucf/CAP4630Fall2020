{
  "nbformat": 4,
  "nbformat_minor": 0,
  "metadata": {
    "colab": {
      "name": "Homework4_Question3_InceptionV3_GlobalAveragePooling.ipynb",
      "provenance": []
    },
    "kernelspec": {
      "name": "python3",
      "display_name": "Python 3"
    },
    "accelerator": "GPU"
  },
  "cells": [
    {
      "cell_type": "markdown",
      "metadata": {
        "id": "KSrgMJ5vKFzQ",
        "colab_type": "text"
      },
      "source": [
        "# Fine-tuning InceptionV3 "
      ]
    },
    {
      "cell_type": "markdown",
      "metadata": {
        "id": "TIW7bZaAK-Hf",
        "colab_type": "text"
      },
      "source": [
        "This is based on section 5.3 *Using a pretrained convnet* of the book *Deep learning with Python* by Francois Chollet. I have made several changes to the code. I use the data that is already provided by Google. I don't download the data from Kaggle as in the deep learning book."
      ]
    },
    {
      "cell_type": "markdown",
      "metadata": {
        "id": "nsBq__dVo2pj",
        "colab_type": "text"
      },
      "source": [
        "## Feature extraction"
      ]
    },
    {
      "cell_type": "markdown",
      "metadata": {
        "id": "0g6ETAM9o54M",
        "colab_type": "text"
      },
      "source": [
        "Feature extraction consists of using the representations learned by a previous network to extract interesting features from new samples. These features are then run through a new classifier, which is trained from scratch.\n",
        "\n",
        "We will use here the convolutional base of the InceptionV3 model to extract the features. We will feed these features to a densely connected classifier with dropout. We will fine-tune some layers."
      ]
    },
    {
      "cell_type": "markdown",
      "metadata": {
        "id": "BqIG8QHMLNOn",
        "colab_type": "text"
      },
      "source": [
        "## Download the data"
      ]
    },
    {
      "cell_type": "markdown",
      "metadata": {
        "id": "t3I1jd7cKV6_",
        "colab_type": "text"
      },
      "source": [
        "Download the example data, a zip. of 2,000 JPG pictures of cats and dogs and extract it locally in ```/tmp```.\n",
        "\n"
      ]
    },
    {
      "cell_type": "code",
      "metadata": {
        "id": "JWjprHEXJ5Qi",
        "colab_type": "code",
        "outputId": "3b56f05b-d493-4a6d-f9f8-7722b594cf95",
        "colab": {
          "base_uri": "https://localhost:8080/",
          "height": 204
        }
      },
      "source": [
        "!wget --no-check-certificate \\\n",
        "    https://storage.googleapis.com/mledu-datasets/cats_and_dogs_filtered.zip \\\n",
        "    -O /tmp/cats_and_dogs_filtered.zip"
      ],
      "execution_count": 1,
      "outputs": [
        {
          "output_type": "stream",
          "text": [
            "--2020-04-22 00:16:22--  https://storage.googleapis.com/mledu-datasets/cats_and_dogs_filtered.zip\n",
            "Resolving storage.googleapis.com (storage.googleapis.com)... 74.125.20.128, 2607:f8b0:400e:c07::80\n",
            "Connecting to storage.googleapis.com (storage.googleapis.com)|74.125.20.128|:443... connected.\n",
            "HTTP request sent, awaiting response... 200 OK\n",
            "Length: 68606236 (65M) [application/zip]\n",
            "Saving to: ‘/tmp/cats_and_dogs_filtered.zip’\n",
            "\n",
            "/tmp/cats_and_dogs_ 100%[===================>]  65.43M  56.0MB/s    in 1.2s    \n",
            "\n",
            "2020-04-22 00:16:24 (56.0 MB/s) - ‘/tmp/cats_and_dogs_filtered.zip’ saved [68606236/68606236]\n",
            "\n"
          ],
          "name": "stdout"
        }
      ]
    },
    {
      "cell_type": "code",
      "metadata": {
        "id": "WvoHtdA-K6Rw",
        "colab_type": "code",
        "colab": {}
      },
      "source": [
        "import os\n",
        "import zipfile\n",
        "\n",
        "local_zip = '/tmp/cats_and_dogs_filtered.zip'\n",
        "zip_ref = zipfile.ZipFile(local_zip, 'r')\n",
        "zip_ref.extractall('/tmp')\n",
        "zip_ref.close()"
      ],
      "execution_count": 0,
      "outputs": []
    },
    {
      "cell_type": "markdown",
      "metadata": {
        "id": "shZiOBnJMyy_",
        "colab_type": "text"
      },
      "source": [
        "Note that the data provided by Google does not have a test set."
      ]
    },
    {
      "cell_type": "code",
      "metadata": {
        "id": "dL8ikM89LlsH",
        "colab_type": "code",
        "colab": {}
      },
      "source": [
        "base_dir = '/tmp/cats_and_dogs_filtered'\n",
        "train_dir = os.path.join(base_dir, 'train')\n",
        "validation_dir = os.path.join(base_dir, 'validation')\n",
        "\n",
        "# Directory with our training cat pictures\n",
        "train_cats_dir = os.path.join(train_dir, 'cats')\n",
        "\n",
        "# Directory with our training dog pictures\n",
        "train_dogs_dir = os.path.join(train_dir, 'dogs')\n",
        "\n",
        "# Directory with our validation cat pictures\n",
        "validation_cats_dir = os.path.join(validation_dir, 'cats')\n",
        "\n",
        "# Directory with our validation dog pictures\n",
        "validation_dogs_dir = os.path.join(validation_dir, 'dogs')"
      ],
      "execution_count": 0,
      "outputs": []
    },
    {
      "cell_type": "markdown",
      "metadata": {
        "id": "inyP8bcdXnn-",
        "colab_type": "text"
      },
      "source": [
        "## Build network with VGG16 convolution base and custom densely connected layers"
      ]
    },
    {
      "cell_type": "markdown",
      "metadata": {
        "id": "kQ48W5T9rHWu",
        "colab_type": "text"
      },
      "source": [
        "### Load the convolutional base"
      ]
    },
    {
      "cell_type": "code",
      "metadata": {
        "id": "Y0FgtANCXm_H",
        "colab_type": "code",
        "outputId": "79aba0fe-860e-4e85-e8a4-69e7467807de",
        "colab": {
          "base_uri": "https://localhost:8080/",
          "height": 88
        }
      },
      "source": [
        "from keras.applications.inception_v3 import InceptionV3\n",
        "\n",
        "conv_base = InceptionV3(\n",
        "    weights='imagenet', \n",
        "    include_top=False, \n",
        "    input_shape=(150, 150, 3))"
      ],
      "execution_count": 4,
      "outputs": [
        {
          "output_type": "stream",
          "text": [
            "Using TensorFlow backend.\n"
          ],
          "name": "stderr"
        },
        {
          "output_type": "stream",
          "text": [
            "Downloading data from https://github.com/fchollet/deep-learning-models/releases/download/v0.5/inception_v3_weights_tf_dim_ordering_tf_kernels_notop.h5\n",
            "87916544/87910968 [==============================] - 2s 0us/step\n"
          ],
          "name": "stdout"
        }
      ]
    },
    {
      "cell_type": "markdown",
      "metadata": {
        "id": "D6OBHOO9q1ou",
        "colab_type": "text"
      },
      "source": [
        "### Freeze the convolutional base"
      ]
    },
    {
      "cell_type": "code",
      "metadata": {
        "id": "UleRo4Dpq6Ld",
        "colab_type": "code",
        "colab": {}
      },
      "source": [
        "conv_base.trainable = False"
      ],
      "execution_count": 0,
      "outputs": []
    },
    {
      "cell_type": "markdown",
      "metadata": {
        "id": "Qfx6PqhPrb7Q",
        "colab_type": "text"
      },
      "source": [
        "### Concatenate the convolutional base and densely connected layers"
      ]
    },
    {
      "cell_type": "code",
      "metadata": {
        "id": "qUpmocDAO3xm",
        "colab_type": "code",
        "colab": {}
      },
      "source": [
        "from keras import layers\n",
        "from keras import models\n",
        "from keras import optimizers\n",
        "\n",
        "model = models.Sequential()\n",
        "model.add(conv_base)\n",
        "model.add(layers.GlobalAveragePooling2D())\n",
        "#model.add(layers.Dropout(0.1))\n",
        "model.add(layers.Dense(1, activation='sigmoid'))"
      ],
      "execution_count": 0,
      "outputs": []
    },
    {
      "cell_type": "code",
      "metadata": {
        "id": "Fh6gZSeAjF7c",
        "colab_type": "code",
        "outputId": "15e5193a-931a-4897-d2ec-18b41610c71f",
        "colab": {
          "base_uri": "https://localhost:8080/",
          "height": 255
        }
      },
      "source": [
        "model.summary()"
      ],
      "execution_count": 7,
      "outputs": [
        {
          "output_type": "stream",
          "text": [
            "Model: \"sequential_1\"\n",
            "_________________________________________________________________\n",
            "Layer (type)                 Output Shape              Param #   \n",
            "=================================================================\n",
            "inception_v3 (Model)         (None, 3, 3, 2048)        21802784  \n",
            "_________________________________________________________________\n",
            "global_average_pooling2d_1 ( (None, 2048)              0         \n",
            "_________________________________________________________________\n",
            "dense_1 (Dense)              (None, 1)                 2049      \n",
            "=================================================================\n",
            "Total params: 21,804,833\n",
            "Trainable params: 2,049\n",
            "Non-trainable params: 21,802,784\n",
            "_________________________________________________________________\n"
          ],
          "name": "stdout"
        }
      ]
    },
    {
      "cell_type": "markdown",
      "metadata": {
        "id": "eZjBiddhi5Qj",
        "colab_type": "text"
      },
      "source": [
        "## Train the model end to end with frozen convolutional base"
      ]
    },
    {
      "cell_type": "code",
      "metadata": {
        "id": "tfAQlC2Oi41L",
        "colab_type": "code",
        "outputId": "3f60799d-02b1-42ba-cb60-7b2eb749bc3e",
        "colab": {
          "base_uri": "https://localhost:8080/",
          "height": 1000
        }
      },
      "source": [
        "from keras.preprocessing.image import ImageDataGenerator\n",
        "from keras import optimizers\n",
        "\n",
        "# data augmentation\n",
        "\n",
        "train_datagen = ImageDataGenerator(\n",
        "    rescale=1./255, \n",
        "    rotation_range=40,\n",
        "    width_shift_range=0.2,\n",
        "    height_shift_range=0.2,\n",
        "    shear_range=0.2,\n",
        "    zoom_range=0.2,\n",
        "    horizontal_flip=True,\n",
        "    fill_mode='nearest'\n",
        ")\n",
        "\n",
        "train_generator = train_datagen.flow_from_directory(\n",
        "    train_dir,\n",
        "    target_size=(150, 150),\n",
        "    batch_size=20,\n",
        "    class_mode='binary')\n",
        "\n",
        "validation_datagen = ImageDataGenerator(rescale=1./255)\n",
        "\n",
        "validation_generator = validation_datagen.flow_from_directory(\n",
        "    validation_dir,\n",
        "    target_size=(150, 150),\n",
        "    batch_size=20,\n",
        "    class_mode='binary')\n",
        "\n",
        "# compile model\n",
        "\n",
        "model.compile(\n",
        "    loss='binary_crossentropy', \n",
        "    optimizer=optimizers.RMSprop(lr=2e-5), \n",
        "    metrics=['acc'])\n",
        "\n",
        "# train\n",
        "\n",
        "history = model.fit_generator(\n",
        "    train_generator,\n",
        "    steps_per_epoch=100,\n",
        "    epochs=30,\n",
        "    validation_data=validation_generator,\n",
        "    validation_steps=50\n",
        ")"
      ],
      "execution_count": 8,
      "outputs": [
        {
          "output_type": "stream",
          "text": [
            "Found 2000 images belonging to 2 classes.\n",
            "Found 1000 images belonging to 2 classes.\n",
            "Epoch 1/30\n",
            "100/100 [==============================] - 29s 293ms/step - loss: 0.7373 - acc: 0.4935 - val_loss: 1.0434 - val_acc: 0.5040\n",
            "Epoch 2/30\n",
            "100/100 [==============================] - 18s 182ms/step - loss: 0.7215 - acc: 0.5080 - val_loss: 0.8943 - val_acc: 0.5370\n",
            "Epoch 3/30\n",
            "100/100 [==============================] - 18s 179ms/step - loss: 0.7042 - acc: 0.5165 - val_loss: 0.5739 - val_acc: 0.5820\n",
            "Epoch 4/30\n",
            "100/100 [==============================] - 18s 180ms/step - loss: 0.6975 - acc: 0.5305 - val_loss: 0.8469 - val_acc: 0.6070\n",
            "Epoch 5/30\n",
            "100/100 [==============================] - 18s 178ms/step - loss: 0.6904 - acc: 0.5340 - val_loss: 1.4702 - val_acc: 0.6500\n",
            "Epoch 6/30\n",
            "100/100 [==============================] - 18s 180ms/step - loss: 0.6728 - acc: 0.5720 - val_loss: 0.6255 - val_acc: 0.6850\n",
            "Epoch 7/30\n",
            "100/100 [==============================] - 18s 178ms/step - loss: 0.6632 - acc: 0.5785 - val_loss: 0.9262 - val_acc: 0.7210\n",
            "Epoch 8/30\n",
            "100/100 [==============================] - 18s 178ms/step - loss: 0.6561 - acc: 0.6010 - val_loss: 0.6834 - val_acc: 0.7460\n",
            "Epoch 9/30\n",
            "100/100 [==============================] - 18s 177ms/step - loss: 0.6482 - acc: 0.5975 - val_loss: 0.4787 - val_acc: 0.7650\n",
            "Epoch 10/30\n",
            "100/100 [==============================] - 18s 176ms/step - loss: 0.6431 - acc: 0.6050 - val_loss: 0.6617 - val_acc: 0.7790\n",
            "Epoch 11/30\n",
            "100/100 [==============================] - 18s 178ms/step - loss: 0.6218 - acc: 0.6310 - val_loss: 0.2576 - val_acc: 0.7930\n",
            "Epoch 12/30\n",
            "100/100 [==============================] - 17s 175ms/step - loss: 0.6165 - acc: 0.6405 - val_loss: 0.4109 - val_acc: 0.8020\n",
            "Epoch 13/30\n",
            "100/100 [==============================] - 18s 176ms/step - loss: 0.6077 - acc: 0.6555 - val_loss: 0.6060 - val_acc: 0.8120\n",
            "Epoch 14/30\n",
            "100/100 [==============================] - 17s 175ms/step - loss: 0.6180 - acc: 0.6265 - val_loss: 0.3488 - val_acc: 0.8260\n",
            "Epoch 15/30\n",
            "100/100 [==============================] - 17s 173ms/step - loss: 0.6061 - acc: 0.6605 - val_loss: 0.3234 - val_acc: 0.8360\n",
            "Epoch 16/30\n",
            "100/100 [==============================] - 17s 170ms/step - loss: 0.6025 - acc: 0.6650 - val_loss: 0.5681 - val_acc: 0.8480\n",
            "Epoch 17/30\n",
            "100/100 [==============================] - 17s 175ms/step - loss: 0.5891 - acc: 0.6675 - val_loss: 0.3866 - val_acc: 0.8570\n",
            "Epoch 18/30\n",
            "100/100 [==============================] - 17s 173ms/step - loss: 0.5908 - acc: 0.6735 - val_loss: 0.3373 - val_acc: 0.8620\n",
            "Epoch 19/30\n",
            "100/100 [==============================] - 17s 172ms/step - loss: 0.5844 - acc: 0.6820 - val_loss: 0.1391 - val_acc: 0.8710\n",
            "Epoch 20/30\n",
            "100/100 [==============================] - 17s 171ms/step - loss: 0.5892 - acc: 0.6695 - val_loss: 0.2589 - val_acc: 0.8700\n",
            "Epoch 21/30\n",
            "100/100 [==============================] - 17s 171ms/step - loss: 0.5839 - acc: 0.6690 - val_loss: 0.3462 - val_acc: 0.8790\n",
            "Epoch 22/30\n",
            "100/100 [==============================] - 17s 172ms/step - loss: 0.5786 - acc: 0.6770 - val_loss: 0.3272 - val_acc: 0.8850\n",
            "Epoch 23/30\n",
            "100/100 [==============================] - 17s 170ms/step - loss: 0.5700 - acc: 0.6900 - val_loss: 0.3616 - val_acc: 0.8890\n",
            "Epoch 24/30\n",
            "100/100 [==============================] - 17s 171ms/step - loss: 0.5615 - acc: 0.7105 - val_loss: 0.5467 - val_acc: 0.8930\n",
            "Epoch 25/30\n",
            "100/100 [==============================] - 17s 172ms/step - loss: 0.5646 - acc: 0.7010 - val_loss: 0.3164 - val_acc: 0.8950\n",
            "Epoch 26/30\n",
            "100/100 [==============================] - 17s 170ms/step - loss: 0.5626 - acc: 0.7130 - val_loss: 0.4080 - val_acc: 0.8970\n",
            "Epoch 27/30\n",
            "100/100 [==============================] - 17s 171ms/step - loss: 0.5590 - acc: 0.7030 - val_loss: 0.2694 - val_acc: 0.9000\n",
            "Epoch 28/30\n",
            "100/100 [==============================] - 17s 170ms/step - loss: 0.5479 - acc: 0.7315 - val_loss: 0.1873 - val_acc: 0.9040\n",
            "Epoch 29/30\n",
            "100/100 [==============================] - 17s 168ms/step - loss: 0.5438 - acc: 0.7240 - val_loss: 0.1092 - val_acc: 0.8990\n",
            "Epoch 30/30\n",
            "100/100 [==============================] - 17s 170ms/step - loss: 0.5457 - acc: 0.7065 - val_loss: 0.3344 - val_acc: 0.8980\n"
          ],
          "name": "stdout"
        }
      ]
    },
    {
      "cell_type": "markdown",
      "metadata": {
        "id": "xqRc_vHKc92U",
        "colab_type": "text"
      },
      "source": [
        "## Display curves of loss and accuracy during training"
      ]
    },
    {
      "cell_type": "code",
      "metadata": {
        "id": "ybWwdzz9bwuQ",
        "colab_type": "code",
        "outputId": "a8695289-8c19-4f25-ca2c-3835a931087c",
        "colab": {
          "base_uri": "https://localhost:8080/",
          "height": 545
        }
      },
      "source": [
        "%matplotlib inline\n",
        "\n",
        "import matplotlib.pyplot as plt\n",
        "\n",
        "acc = history.history['acc']\n",
        "val_acc = history.history['val_acc']\n",
        "\n",
        "loss = history.history['loss']\n",
        "val_loss = history.history['val_loss']\n",
        "\n",
        "epochs = range(1, len(acc) + 1)\n",
        "\n",
        "# training and validation accuracy\n",
        "\n",
        "plt.plot(epochs, acc, 'bo', label='training acc')\n",
        "plt.plot(epochs, val_acc, 'b', label='validation acc')\n",
        "plt.title('training and validation accuracy')\n",
        "plt.legend()\n",
        "\n",
        "plt.figure()\n",
        "\n",
        "# training and validation loss\n",
        "\n",
        "plt.plot(epochs, loss, 'bo', label='training loss')\n",
        "plt.plot(epochs, val_loss, 'b', label='validation loss')\n",
        "plt.title('training and validation loss')\n",
        "plt.legend()\n",
        "\n",
        "plt.show()"
      ],
      "execution_count": 9,
      "outputs": [
        {
          "output_type": "display_data",
          "data": {
            "image/png": "[encoded data removed]",
            "text/plain": [
              "<Figure size 432x288 with 1 Axes>"
            ]
          },
          "metadata": {
            "tags": [],
            "needs_background": "light"
          }
        },
        {
          "output_type": "display_data",
          "data": {
            "image/png": "[encoded data removed]",
            "text/plain": [
              "<Figure size 432x288 with 1 Axes>"
            ]
          },
          "metadata": {
            "tags": [],
            "needs_background": "light"
          }
        }
      ]
    },
    {
      "cell_type": "markdown",
      "metadata": {
        "id": "lOWsxpey8lN0",
        "colab_type": "text"
      },
      "source": [
        "## Fine-tuning"
      ]
    },
    {
      "cell_type": "code",
      "metadata": {
        "id": "PwkVMx8N8qMw",
        "colab_type": "code",
        "colab": {}
      },
      "source": [
        "conv_base.trainable = True\n",
        "\n",
        "start_tuning = 85\n",
        "\n",
        "for layer in conv_base.layers[:start_tuning]:\n",
        "  layer.trainable = False"
      ],
      "execution_count": 0,
      "outputs": []
    },
    {
      "cell_type": "code",
      "metadata": {
        "id": "DyN-J7rs9cvo",
        "colab_type": "code",
        "outputId": "b11a2a66-2bd2-4e11-8291-478a13bdabd6",
        "colab": {
          "base_uri": "https://localhost:8080/",
          "height": 1000
        }
      },
      "source": [
        "# compile model\n",
        "\n",
        "model.compile(\n",
        "    loss='binary_crossentropy',\n",
        "    #\n",
        "    # choose a smaller learning rate\n",
        "    #\n",
        "    optimizer=optimizers.RMSprop(lr=1e-5), \n",
        "    metrics=['acc'])\n",
        "\n",
        "# train\n",
        "\n",
        "history = model.fit_generator(\n",
        "    train_generator,\n",
        "    steps_per_epoch=100,\n",
        "    epochs=100,\n",
        "    validation_data=validation_generator,\n",
        "    validation_steps=50)"
      ],
      "execution_count": 11,
      "outputs": [
        {
          "output_type": "stream",
          "text": [
            "Epoch 1/100\n",
            "100/100 [==============================] - 35s 351ms/step - loss: 0.4837 - acc: 0.7750 - val_loss: 0.3218 - val_acc: 0.9020\n",
            "Epoch 2/100\n",
            "100/100 [==============================] - 21s 210ms/step - loss: 0.4003 - acc: 0.8155 - val_loss: 0.1471 - val_acc: 0.9160\n",
            "Epoch 3/100\n",
            "100/100 [==============================] - 21s 208ms/step - loss: 0.3518 - acc: 0.8480 - val_loss: 0.1297 - val_acc: 0.9120\n",
            "Epoch 4/100\n",
            "100/100 [==============================] - 21s 210ms/step - loss: 0.3100 - acc: 0.8670 - val_loss: 0.3522 - val_acc: 0.9200\n",
            "Epoch 5/100\n",
            "100/100 [==============================] - 21s 208ms/step - loss: 0.2697 - acc: 0.8830 - val_loss: 0.0826 - val_acc: 0.9290\n",
            "Epoch 6/100\n",
            "100/100 [==============================] - 21s 207ms/step - loss: 0.2719 - acc: 0.8745 - val_loss: 0.0286 - val_acc: 0.9280\n",
            "Epoch 7/100\n",
            "100/100 [==============================] - 21s 209ms/step - loss: 0.2663 - acc: 0.8785 - val_loss: 0.3428 - val_acc: 0.9240\n",
            "Epoch 8/100\n",
            "100/100 [==============================] - 21s 206ms/step - loss: 0.2299 - acc: 0.9080 - val_loss: 0.2353 - val_acc: 0.9360\n",
            "Epoch 9/100\n",
            "100/100 [==============================] - 21s 210ms/step - loss: 0.2131 - acc: 0.9115 - val_loss: 0.0838 - val_acc: 0.9400\n",
            "Epoch 10/100\n",
            "100/100 [==============================] - 21s 208ms/step - loss: 0.2159 - acc: 0.9090 - val_loss: 0.3466 - val_acc: 0.9420\n",
            "Epoch 11/100\n",
            "100/100 [==============================] - 21s 207ms/step - loss: 0.2021 - acc: 0.9110 - val_loss: 0.1378 - val_acc: 0.9450\n",
            "Epoch 12/100\n",
            "100/100 [==============================] - 21s 208ms/step - loss: 0.2011 - acc: 0.9190 - val_loss: 0.1081 - val_acc: 0.9410\n",
            "Epoch 13/100\n",
            "100/100 [==============================] - 21s 207ms/step - loss: 0.1779 - acc: 0.9260 - val_loss: 0.0326 - val_acc: 0.9480\n",
            "Epoch 14/100\n",
            "100/100 [==============================] - 21s 209ms/step - loss: 0.1718 - acc: 0.9310 - val_loss: 0.0609 - val_acc: 0.9440\n",
            "Epoch 15/100\n",
            "100/100 [==============================] - 21s 210ms/step - loss: 0.1614 - acc: 0.9330 - val_loss: 0.2007 - val_acc: 0.9420\n",
            "Epoch 16/100\n",
            "100/100 [==============================] - 21s 214ms/step - loss: 0.1546 - acc: 0.9355 - val_loss: 0.3260 - val_acc: 0.9440\n",
            "Epoch 17/100\n",
            "100/100 [==============================] - 21s 212ms/step - loss: 0.1598 - acc: 0.9405 - val_loss: 0.0130 - val_acc: 0.9410\n",
            "Epoch 18/100\n",
            "100/100 [==============================] - 22s 215ms/step - loss: 0.1426 - acc: 0.9480 - val_loss: 0.2293 - val_acc: 0.9500\n",
            "Epoch 19/100\n",
            "100/100 [==============================] - 21s 212ms/step - loss: 0.1435 - acc: 0.9455 - val_loss: 0.0721 - val_acc: 0.9490\n",
            "Epoch 20/100\n",
            "100/100 [==============================] - 21s 214ms/step - loss: 0.1520 - acc: 0.9435 - val_loss: 0.0542 - val_acc: 0.9480\n",
            "Epoch 21/100\n",
            "100/100 [==============================] - 21s 209ms/step - loss: 0.1274 - acc: 0.9480 - val_loss: 0.0166 - val_acc: 0.9500\n",
            "Epoch 22/100\n",
            "100/100 [==============================] - 21s 211ms/step - loss: 0.1190 - acc: 0.9565 - val_loss: 0.1139 - val_acc: 0.9490\n",
            "Epoch 23/100\n",
            "100/100 [==============================] - 21s 208ms/step - loss: 0.1178 - acc: 0.9545 - val_loss: 0.0132 - val_acc: 0.9540\n",
            "Epoch 24/100\n",
            "100/100 [==============================] - 21s 211ms/step - loss: 0.1316 - acc: 0.9500 - val_loss: 0.0244 - val_acc: 0.9560\n",
            "Epoch 25/100\n",
            "100/100 [==============================] - 21s 210ms/step - loss: 0.1198 - acc: 0.9525 - val_loss: 0.0283 - val_acc: 0.9540\n",
            "Epoch 26/100\n",
            "100/100 [==============================] - 21s 207ms/step - loss: 0.1402 - acc: 0.9485 - val_loss: 0.1369 - val_acc: 0.9550\n",
            "Epoch 27/100\n",
            "100/100 [==============================] - 21s 209ms/step - loss: 0.1213 - acc: 0.9520 - val_loss: 0.0412 - val_acc: 0.9540\n",
            "Epoch 28/100\n",
            "100/100 [==============================] - 21s 209ms/step - loss: 0.1223 - acc: 0.9530 - val_loss: 0.1505 - val_acc: 0.9540\n",
            "Epoch 29/100\n",
            "100/100 [==============================] - 21s 210ms/step - loss: 0.1031 - acc: 0.9610 - val_loss: 0.0778 - val_acc: 0.9570\n",
            "Epoch 30/100\n",
            "100/100 [==============================] - 21s 208ms/step - loss: 0.1015 - acc: 0.9640 - val_loss: 0.1417 - val_acc: 0.9530\n",
            "Epoch 31/100\n",
            "100/100 [==============================] - 21s 210ms/step - loss: 0.0828 - acc: 0.9725 - val_loss: 0.0573 - val_acc: 0.9560\n",
            "Epoch 32/100\n",
            "100/100 [==============================] - 21s 209ms/step - loss: 0.0913 - acc: 0.9670 - val_loss: 0.1310 - val_acc: 0.9520\n",
            "Epoch 33/100\n",
            "100/100 [==============================] - 21s 206ms/step - loss: 0.0861 - acc: 0.9660 - val_loss: 0.2772 - val_acc: 0.9560\n",
            "Epoch 34/100\n",
            "100/100 [==============================] - 21s 207ms/step - loss: 0.1001 - acc: 0.9660 - val_loss: 0.0649 - val_acc: 0.9590\n",
            "Epoch 35/100\n",
            "100/100 [==============================] - 21s 211ms/step - loss: 0.0932 - acc: 0.9680 - val_loss: 0.0371 - val_acc: 0.9570\n",
            "Epoch 36/100\n",
            "100/100 [==============================] - 21s 209ms/step - loss: 0.0862 - acc: 0.9680 - val_loss: 0.3371 - val_acc: 0.9520\n",
            "Epoch 37/100\n",
            "100/100 [==============================] - 21s 208ms/step - loss: 0.0831 - acc: 0.9695 - val_loss: 0.0494 - val_acc: 0.9570\n",
            "Epoch 38/100\n",
            "100/100 [==============================] - 21s 207ms/step - loss: 0.1150 - acc: 0.9605 - val_loss: 0.0124 - val_acc: 0.9540\n",
            "Epoch 39/100\n",
            "100/100 [==============================] - 21s 211ms/step - loss: 0.0888 - acc: 0.9670 - val_loss: 0.3951 - val_acc: 0.9540\n",
            "Epoch 40/100\n",
            "100/100 [==============================] - 21s 212ms/step - loss: 0.0713 - acc: 0.9740 - val_loss: 0.3164 - val_acc: 0.9580\n",
            "Epoch 41/100\n",
            "100/100 [==============================] - 21s 207ms/step - loss: 0.0769 - acc: 0.9725 - val_loss: 0.0465 - val_acc: 0.9580\n",
            "Epoch 42/100\n",
            "100/100 [==============================] - 21s 208ms/step - loss: 0.0675 - acc: 0.9760 - val_loss: 0.4891 - val_acc: 0.9560\n",
            "Epoch 43/100\n",
            "100/100 [==============================] - 21s 212ms/step - loss: 0.0634 - acc: 0.9740 - val_loss: 0.1701 - val_acc: 0.9600\n",
            "Epoch 44/100\n",
            "100/100 [==============================] - 21s 213ms/step - loss: 0.0499 - acc: 0.9820 - val_loss: 0.1420 - val_acc: 0.9610\n",
            "Epoch 45/100\n",
            "100/100 [==============================] - 21s 214ms/step - loss: 0.0730 - acc: 0.9760 - val_loss: 0.3366 - val_acc: 0.9590\n",
            "Epoch 46/100\n",
            "100/100 [==============================] - 21s 211ms/step - loss: 0.0575 - acc: 0.9785 - val_loss: 0.1006 - val_acc: 0.9610\n",
            "Epoch 47/100\n",
            "100/100 [==============================] - 21s 215ms/step - loss: 0.0615 - acc: 0.9790 - val_loss: 0.1897 - val_acc: 0.9580\n",
            "Epoch 48/100\n",
            "100/100 [==============================] - 22s 216ms/step - loss: 0.0704 - acc: 0.9730 - val_loss: 0.0478 - val_acc: 0.9620\n",
            "Epoch 49/100\n",
            "100/100 [==============================] - 22s 220ms/step - loss: 0.0620 - acc: 0.9765 - val_loss: 0.0148 - val_acc: 0.9650\n",
            "Epoch 50/100\n",
            "100/100 [==============================] - 23s 225ms/step - loss: 0.0488 - acc: 0.9825 - val_loss: 0.0351 - val_acc: 0.9630\n",
            "Epoch 51/100\n",
            "100/100 [==============================] - 23s 230ms/step - loss: 0.0612 - acc: 0.9785 - val_loss: 0.1179 - val_acc: 0.9620\n",
            "Epoch 52/100\n",
            "100/100 [==============================] - 23s 231ms/step - loss: 0.0537 - acc: 0.9830 - val_loss: 0.1963 - val_acc: 0.9660\n",
            "Epoch 53/100\n",
            "100/100 [==============================] - 24s 238ms/step - loss: 0.0640 - acc: 0.9780 - val_loss: 0.1210 - val_acc: 0.9640\n",
            "Epoch 54/100\n",
            "100/100 [==============================] - 24s 240ms/step - loss: 0.0403 - acc: 0.9865 - val_loss: 0.0125 - val_acc: 0.9600\n",
            "Epoch 55/100\n",
            "100/100 [==============================] - 23s 228ms/step - loss: 0.0503 - acc: 0.9830 - val_loss: 0.0013 - val_acc: 0.9630\n",
            "Epoch 56/100\n",
            "100/100 [==============================] - 22s 221ms/step - loss: 0.0455 - acc: 0.9855 - val_loss: 0.2344 - val_acc: 0.9680\n",
            "Epoch 57/100\n",
            "100/100 [==============================] - 22s 222ms/step - loss: 0.0431 - acc: 0.9840 - val_loss: 0.0024 - val_acc: 0.9660\n",
            "Epoch 58/100\n",
            "100/100 [==============================] - 22s 223ms/step - loss: 0.0414 - acc: 0.9870 - val_loss: 0.0948 - val_acc: 0.9670\n",
            "Epoch 59/100\n",
            "100/100 [==============================] - 22s 223ms/step - loss: 0.0364 - acc: 0.9860 - val_loss: 0.0171 - val_acc: 0.9660\n",
            "Epoch 60/100\n",
            "100/100 [==============================] - 22s 220ms/step - loss: 0.0455 - acc: 0.9865 - val_loss: 0.1121 - val_acc: 0.9700\n",
            "Epoch 61/100\n",
            "100/100 [==============================] - 22s 219ms/step - loss: 0.0493 - acc: 0.9840 - val_loss: 0.0227 - val_acc: 0.9680\n",
            "Epoch 62/100\n",
            "100/100 [==============================] - 22s 220ms/step - loss: 0.0359 - acc: 0.9880 - val_loss: 0.0463 - val_acc: 0.9640\n",
            "Epoch 63/100\n",
            "100/100 [==============================] - 22s 220ms/step - loss: 0.0517 - acc: 0.9835 - val_loss: 0.0132 - val_acc: 0.9690\n",
            "Epoch 64/100\n",
            "100/100 [==============================] - 22s 218ms/step - loss: 0.0466 - acc: 0.9830 - val_loss: 5.1908e-05 - val_acc: 0.9640\n",
            "Epoch 65/100\n",
            "100/100 [==============================] - 22s 220ms/step - loss: 0.0407 - acc: 0.9850 - val_loss: 0.0914 - val_acc: 0.9650\n",
            "Epoch 66/100\n",
            "100/100 [==============================] - 22s 218ms/step - loss: 0.0423 - acc: 0.9890 - val_loss: 0.0907 - val_acc: 0.9680\n",
            "Epoch 67/100\n",
            "100/100 [==============================] - 22s 221ms/step - loss: 0.0324 - acc: 0.9880 - val_loss: 0.0365 - val_acc: 0.9660\n",
            "Epoch 68/100\n",
            "100/100 [==============================] - 22s 219ms/step - loss: 0.0461 - acc: 0.9855 - val_loss: 0.0075 - val_acc: 0.9640\n",
            "Epoch 69/100\n",
            "100/100 [==============================] - 22s 222ms/step - loss: 0.0312 - acc: 0.9890 - val_loss: 0.0093 - val_acc: 0.9610\n",
            "Epoch 70/100\n",
            "100/100 [==============================] - 22s 221ms/step - loss: 0.0484 - acc: 0.9840 - val_loss: 0.0031 - val_acc: 0.9680\n",
            "Epoch 71/100\n",
            "100/100 [==============================] - 22s 222ms/step - loss: 0.0344 - acc: 0.9900 - val_loss: 0.0163 - val_acc: 0.9650\n",
            "Epoch 72/100\n",
            "100/100 [==============================] - 23s 226ms/step - loss: 0.0393 - acc: 0.9880 - val_loss: 0.0053 - val_acc: 0.9670\n",
            "Epoch 73/100\n",
            "100/100 [==============================] - 22s 224ms/step - loss: 0.0239 - acc: 0.9905 - val_loss: 0.0358 - val_acc: 0.9670\n",
            "Epoch 74/100\n",
            "100/100 [==============================] - 22s 220ms/step - loss: 0.0305 - acc: 0.9900 - val_loss: 0.0177 - val_acc: 0.9690\n",
            "Epoch 75/100\n",
            "100/100 [==============================] - 22s 223ms/step - loss: 0.0380 - acc: 0.9885 - val_loss: 0.1959 - val_acc: 0.9640\n",
            "Epoch 76/100\n",
            "100/100 [==============================] - 23s 227ms/step - loss: 0.0342 - acc: 0.9890 - val_loss: 0.0239 - val_acc: 0.9700\n",
            "Epoch 77/100\n",
            "100/100 [==============================] - 22s 223ms/step - loss: 0.0285 - acc: 0.9895 - val_loss: 0.0199 - val_acc: 0.9680\n",
            "Epoch 78/100\n",
            "100/100 [==============================] - 22s 223ms/step - loss: 0.0187 - acc: 0.9940 - val_loss: 0.0050 - val_acc: 0.9690\n",
            "Epoch 79/100\n",
            "100/100 [==============================] - 22s 223ms/step - loss: 0.0311 - acc: 0.9905 - val_loss: 0.8398 - val_acc: 0.9670\n",
            "Epoch 80/100\n",
            "100/100 [==============================] - 23s 227ms/step - loss: 0.0261 - acc: 0.9910 - val_loss: 0.0169 - val_acc: 0.9630\n",
            "Epoch 81/100\n",
            "100/100 [==============================] - 22s 223ms/step - loss: 0.0237 - acc: 0.9935 - val_loss: 0.0041 - val_acc: 0.9690\n",
            "Epoch 82/100\n",
            "100/100 [==============================] - 23s 226ms/step - loss: 0.0220 - acc: 0.9940 - val_loss: 0.0602 - val_acc: 0.9640\n",
            "Epoch 83/100\n",
            "100/100 [==============================] - 23s 227ms/step - loss: 0.0307 - acc: 0.9905 - val_loss: 0.2240 - val_acc: 0.9700\n",
            "Epoch 84/100\n",
            "100/100 [==============================] - 23s 226ms/step - loss: 0.0347 - acc: 0.9920 - val_loss: 0.2584 - val_acc: 0.9690\n",
            "Epoch 85/100\n",
            "100/100 [==============================] - 23s 225ms/step - loss: 0.0288 - acc: 0.9885 - val_loss: 0.5611 - val_acc: 0.9710\n",
            "Epoch 86/100\n",
            "100/100 [==============================] - 23s 228ms/step - loss: 0.0165 - acc: 0.9945 - val_loss: 0.1600 - val_acc: 0.9660\n",
            "Epoch 87/100\n",
            "100/100 [==============================] - 23s 230ms/step - loss: 0.0243 - acc: 0.9905 - val_loss: 0.4221 - val_acc: 0.9690\n",
            "Epoch 88/100\n",
            "100/100 [==============================] - 23s 226ms/step - loss: 0.0176 - acc: 0.9940 - val_loss: 0.0544 - val_acc: 0.9670\n",
            "Epoch 89/100\n",
            "100/100 [==============================] - 23s 228ms/step - loss: 0.0172 - acc: 0.9940 - val_loss: 0.1668 - val_acc: 0.9690\n",
            "Epoch 90/100\n",
            "100/100 [==============================] - 23s 229ms/step - loss: 0.0192 - acc: 0.9930 - val_loss: 0.0120 - val_acc: 0.9730\n",
            "Epoch 91/100\n",
            "100/100 [==============================] - 23s 227ms/step - loss: 0.0323 - acc: 0.9925 - val_loss: 0.0507 - val_acc: 0.9680\n",
            "Epoch 92/100\n",
            "100/100 [==============================] - 23s 228ms/step - loss: 0.0169 - acc: 0.9955 - val_loss: 0.4807 - val_acc: 0.9720\n",
            "Epoch 93/100\n",
            "100/100 [==============================] - 23s 229ms/step - loss: 0.0199 - acc: 0.9910 - val_loss: 0.0199 - val_acc: 0.9700\n",
            "Epoch 94/100\n",
            "100/100 [==============================] - 23s 230ms/step - loss: 0.0203 - acc: 0.9940 - val_loss: 0.0079 - val_acc: 0.9670\n",
            "Epoch 95/100\n",
            "100/100 [==============================] - 23s 228ms/step - loss: 0.0148 - acc: 0.9945 - val_loss: 0.0033 - val_acc: 0.9660\n",
            "Epoch 96/100\n",
            "100/100 [==============================] - 23s 225ms/step - loss: 0.0151 - acc: 0.9960 - val_loss: 0.0476 - val_acc: 0.9650\n",
            "Epoch 97/100\n",
            "100/100 [==============================] - 23s 232ms/step - loss: 0.0221 - acc: 0.9920 - val_loss: 0.0064 - val_acc: 0.9710\n",
            "Epoch 98/100\n",
            "100/100 [==============================] - 23s 228ms/step - loss: 0.0152 - acc: 0.9945 - val_loss: 0.2200 - val_acc: 0.9670\n",
            "Epoch 99/100\n",
            "100/100 [==============================] - 23s 231ms/step - loss: 0.0158 - acc: 0.9930 - val_loss: 0.0216 - val_acc: 0.9690\n",
            "Epoch 100/100\n",
            "100/100 [==============================] - 23s 228ms/step - loss: 0.0254 - acc: 0.9915 - val_loss: 0.2325 - val_acc: 0.9680\n"
          ],
          "name": "stdout"
        }
      ]
    },
    {
      "cell_type": "markdown",
      "metadata": {
        "id": "eVBQgh5M-Rtz",
        "colab_type": "text"
      },
      "source": [
        "## Display learning curves during fine-tuning"
      ]
    },
    {
      "cell_type": "code",
      "metadata": {
        "id": "mbkIw7Ie-NP4",
        "colab_type": "code",
        "outputId": "797d4b68-794a-438d-e538-cc620bb5012c",
        "colab": {
          "base_uri": "https://localhost:8080/",
          "height": 545
        }
      },
      "source": [
        "%matplotlib inline\n",
        "\n",
        "import matplotlib.pyplot as plt\n",
        "\n",
        "acc = history.history['acc']\n",
        "val_acc = history.history['val_acc']\n",
        "\n",
        "loss = history.history['loss']\n",
        "val_loss = history.history['val_loss']\n",
        "\n",
        "epochs = range(1, len(acc) + 1)\n",
        "\n",
        "# training and validation accuracy\n",
        "\n",
        "plt.plot(epochs, acc, 'bo', label='training acc')\n",
        "plt.plot(epochs, val_acc, 'b', label='validation acc')\n",
        "plt.title('training and validation accuracy')\n",
        "plt.legend()\n",
        "\n",
        "plt.figure()\n",
        "\n",
        "# training and validation loss\n",
        "\n",
        "plt.plot(epochs, loss, 'bo', label='training loss')\n",
        "plt.plot(epochs, val_loss, 'b', label='validation loss')\n",
        "plt.title('training and validation loss')\n",
        "plt.legend()\n",
        "\n",
        "plt.show()"
      ],
      "execution_count": 12,
      "outputs": [
        {
          "output_type": "display_data",
          "data": {
            "image/png": "[encoded data removed]",
            "text/plain": [
              "<Figure size 432x288 with 1 Axes>"
            ]
          },
          "metadata": {
            "tags": [],
            "needs_background": "light"
          }
        },
        {
          "output_type": "display_data",
          "data": {
            "image/png": "[encoded data removed]",
            "text/plain": [
              "<Figure size 432x288 with 1 Axes>"
            ]
          },
          "metadata": {
            "tags": [],
            "needs_background": "light"
          }
        }
      ]
    },
    {
      "cell_type": "markdown",
      "metadata": {
        "id": "he3Nw6TOJwjx",
        "colab_type": "text"
      },
      "source": [
        "## Print out validation loss and accuracy"
      ]
    },
    {
      "cell_type": "code",
      "metadata": {
        "id": "SVQtrk7uJdhl",
        "colab_type": "code",
        "colab": {}
      },
      "source": [
        "val_loss, val_acc = model.evaluate_generator(validation_generator, steps=50)"
      ],
      "execution_count": 0,
      "outputs": []
    },
    {
      "cell_type": "code",
      "metadata": {
        "id": "HpdddLi1SUMe",
        "colab_type": "code",
        "outputId": "6c63ed9f-dfb8-43bd-f15e-64acb20ecd8e",
        "colab": {
          "base_uri": "https://localhost:8080/",
          "height": 51
        }
      },
      "source": [
        "print(\"Validation loss:\", val_loss)\n",
        "print(\"Validation accuracy:\", val_acc)"
      ],
      "execution_count": 14,
      "outputs": [
        {
          "output_type": "stream",
          "text": [
            "Validation loss: 0.23251625895500183\n",
            "Validation accuracy: 0.9679999947547913\n"
          ],
          "name": "stdout"
        }
      ]
    },
    {
      "cell_type": "markdown",
      "metadata": {
        "id": "7Ww756WToby8",
        "colab_type": "text"
      },
      "source": [
        "## Save the model"
      ]
    },
    {
      "cell_type": "code",
      "metadata": {
        "id": "0lTUpUdwobKW",
        "colab_type": "code",
        "colab": {}
      },
      "source": [
        "model_fname = 'cats_and_dogs_small_4.h5' \n",
        "model.save(model_fname)"
      ],
      "execution_count": 0,
      "outputs": []
    },
    {
      "cell_type": "code",
      "metadata": {
        "id": "YhEoI8ZTok-X",
        "colab_type": "code",
        "colab": {}
      },
      "source": [
        "from google.colab import files\n",
        "\n",
        "with open(model_fname, 'r') as f:\n",
        "  files.download(model_fname)"
      ],
      "execution_count": 0,
      "outputs": []
    },
    {
      "cell_type": "code",
      "metadata": {
        "id": "VNEL4CCcS0Oj",
        "colab_type": "code",
        "colab": {}
      },
      "source": [
        ""
      ],
      "execution_count": 0,
      "outputs": []
    }
  ]
}