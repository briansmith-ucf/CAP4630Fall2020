{
  "nbformat": 4,
  "nbformat_minor": 0,
  "metadata": {
    "colab": {
      "name": "Homework4_Question1.ipynb",
      "provenance": [],
      "collapsed_sections": []
    },
    "kernelspec": {
      "name": "python3",
      "display_name": "Python 3"
    }
  },
  "cells": [
    {
      "cell_type": "markdown",
      "metadata": {
        "id": "XoBATY8XdGnn",
        "colab_type": "text"
      },
      "source": [
        "#Question 1 \n",
        "Using only numpy, implement the function conv2d. It takes as input input_mat and kernel_mat and outputs output_mat. All variables are square matrices. It should compute the convolution of input_mat with the kernel kernel_mat using valid padding.\n",
        "\n",
        "By looking at the test cases, lists are being passed to the function, so I am assuming my input will be the first value within that list.\n",
        "\n",
        "Source: https://stackoverflow.com/questions/43086557/convolve2d-just-by-using-numpy"
      ]
    },
    {
      "cell_type": "code",
      "metadata": {
        "id": "c9WfUB4zckbf",
        "colab_type": "code",
        "colab": {}
      },
      "source": [
        "import numpy as np\n",
        "\n",
        "def conv2d(input_mat, kernel_mat):\n",
        "  matrix_input = input_mat\n",
        "  kernel_input = kernel_mat\n",
        "\n",
        "  if input_mat.shape[0] != input_mat.shape[1] or kernel_mat.shape[0] != kernel_mat.shape[1]:\n",
        "    raise CustomError(\"Both inputs must be square matrices\")\n",
        "\n",
        "  filter = tuple(np.subtract(matrix_input.shape, kernel_input.shape) + 1)\n",
        "\n",
        "  if (filter[0] < 0 or filter[1] < 0):\n",
        "    return []\n",
        "\n",
        "  strides = matrix_input.strides + matrix_input.strides\n",
        "\n",
        "  sub_matrices = np.lib.stride_tricks.as_strided(matrix_input, kernel_input.shape + filter, strides)\n",
        "\n",
        "  convolved_matrix = np.einsum('ij,ijkl->kl', kernel_input ,sub_matrices)\n",
        "\n",
        "  return convolved_matrix"
      ],
      "execution_count": 0,
      "outputs": []
    },
    {
      "cell_type": "markdown",
      "metadata": {
        "id": "JTmXMlIHftTz",
        "colab_type": "text"
      },
      "source": [
        "#Test Case Output"
      ]
    },
    {
      "cell_type": "code",
      "metadata": {
        "id": "bnZTszpqf1TM",
        "colab_type": "code",
        "outputId": "615d3150-f173-42f6-fbc9-6446443c693a",
        "colab": {
          "base_uri": "https://localhost:8080/",
          "height": 374
        }
      },
      "source": [
        "from scipy import signal\n",
        "import numpy as np\n",
        "\n",
        "input_mat = []\n",
        "kernel_mat = []\n",
        "expected_mat = []\n",
        "\n",
        "# test case 1\n",
        "input_mat.append(np.array([[1, 2, 1, 2],\n",
        "                      [2, 1, 2, 1],\n",
        "                      [1, 2, 1, 2],\n",
        "                      [2, 1, 2, 1]]))\n",
        "\n",
        "kernel_mat.append(np.array([[1, 0],\n",
        "                       [0, 1]]))\n",
        "\n",
        "expected_mat.append(np.array([[2, 4, 2],\n",
        "                                [4, 2, 4],\n",
        "                                [2, 4, 2]]))\n",
        "\n",
        "# test case 2\n",
        "input_mat.append(np.array([[1, 0, 0, 0],\n",
        "                      [0, 1, 0, 0],\n",
        "                      [0, 0, 1, 0],\n",
        "                      [0, 0, 0, 1]]))\n",
        "kernel_mat.append(np.array([[1, 0], [0, 1]]))\n",
        "expected_mat.append(np.array([[2, 0, 0], [0, 2, 0], [0, 0, 2]]))\n",
        "\n",
        "\n",
        "# test case 3\n",
        "input_mat.append(np.array([[1, 0, 0, 0],\n",
        "                      [0, 1, 0, 0],\n",
        "                      [0, 0, 1, 0],\n",
        "                      [0, 0, 0, 1]]))\n",
        "kernel_mat.append(np.array([[1, -1],\n",
        "                       [-1, 0]]))\n",
        "\n",
        "expected_mat.append(np.array([[ 1, -1,  0], [-1,  1, -1],[ 0, -1,  1]]))\n",
        "\n",
        "\n",
        "# test case 4\n",
        "input_mat.append(np.array([[1, 0, 0, 0],\n",
        "                      [0, 1, 0, 0],\n",
        "                      [0, 0, 1, 0],\n",
        "                      [0, 0, 0, 1]]))\n",
        "kernel_mat.append(np.array([[1, 0, 0, 0],\n",
        "                      [0, 1, 0, 0],\n",
        "                      [0, 0, 1, 0],\n",
        "                      [0, 0, 0, 1]]))\n",
        "\n",
        "expected_mat.append(np.array([[4]]))\n",
        "\n",
        "\n",
        "# test case 5 - should either through an error, or return empty matrix\n",
        "input_mat.append(np.array([[1, -1],\n",
        "                       [-1, 0]]))\n",
        "kernel_mat.append(np.array([[1, 0, 0, 0],\n",
        "                      [0, 1, 0, 0],\n",
        "                      [0, 0, 1, 0],\n",
        "                      [0, 0, 0, 1]]))\n",
        "\n",
        "expected_mat.append([])\n",
        "\n",
        "\n",
        "\n",
        "for i in range(len(input_mat)):\n",
        "  # uncomment line for student code testing\n",
        "  output_mat = conv2d(input_mat[i], kernel_mat[i])\n",
        "\n",
        "  # uncomment lines below (and comment line above) for generating test cases.\n",
        "  #if input_mat[i].shape[0] < kernel_mat[i].shape[0]:\n",
        "   # output_mat = []\n",
        "  #else:\n",
        "   # output_mat = signal.convolve2d(input_mat[i], kernel_mat[i], mode='valid')\n",
        "\n",
        "  print(output_mat)\n",
        "  if np.array_equal(output_mat, expected_mat[i]):\n",
        "    print(\"Correct output!\\n\")\n",
        "  else:\n",
        "    print(\"Incorrect output!\\n\")\n"
      ],
      "execution_count": 26,
      "outputs": [
        {
          "output_type": "stream",
          "text": [
            "[[2 4 2]\n",
            " [4 2 4]\n",
            " [2 4 2]]\n",
            "Correct output!\n",
            "\n",
            "[[2 0 0]\n",
            " [0 2 0]\n",
            " [0 0 2]]\n",
            "Correct output!\n",
            "\n",
            "[[ 1 -1  0]\n",
            " [-1  1 -1]\n",
            " [ 0 -1  1]]\n",
            "Correct output!\n",
            "\n",
            "[[4]]\n",
            "Correct output!\n",
            "\n",
            "[]\n",
            "Correct output!\n",
            "\n"
          ],
          "name": "stdout"
        }
      ]
    }
  ]
}