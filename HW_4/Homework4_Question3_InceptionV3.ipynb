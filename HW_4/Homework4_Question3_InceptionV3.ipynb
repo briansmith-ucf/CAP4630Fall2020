{
  "nbformat": 4,
  "nbformat_minor": 0,
  "metadata": {
    "colab": {
      "name": "Homework4_Question3_InceptionV3.ipynb",
      "provenance": [],
      "collapsed_sections": []
    },
    "kernelspec": {
      "name": "python3",
      "display_name": "Python 3"
    },
    "accelerator": "GPU"
  },
  "cells": [
    {
      "cell_type": "markdown",
      "metadata": {
        "id": "KSrgMJ5vKFzQ",
        "colab_type": "text"
      },
      "source": [
        "# Fine-tuning InceptionV3 "
      ]
    },
    {
      "cell_type": "markdown",
      "metadata": {
        "id": "TIW7bZaAK-Hf",
        "colab_type": "text"
      },
      "source": [
        "This is based on section 5.3 *Using a pretrained convnet* of the book *Deep learning with Python* by Francois Chollet. I have made several changes to the code. I use the data that is already provided by Google. I don't download the data from Kaggle as in the deep learning book."
      ]
    },
    {
      "cell_type": "markdown",
      "metadata": {
        "id": "nsBq__dVo2pj",
        "colab_type": "text"
      },
      "source": [
        "## Feature extraction"
      ]
    },
    {
      "cell_type": "markdown",
      "metadata": {
        "id": "0g6ETAM9o54M",
        "colab_type": "text"
      },
      "source": [
        "Feature extraction consists of using the representations learned by a previous network to extract interesting features from new samples. These features are then run through a new classifier, which is trained from scratch.\n",
        "\n",
        "We will use here the convolutional base of the InceptionV3 model to extract the features. We will feed these features to a densely connected classifier with dropout. We will fine-tune some layers."
      ]
    },
    {
      "cell_type": "markdown",
      "metadata": {
        "id": "BqIG8QHMLNOn",
        "colab_type": "text"
      },
      "source": [
        "## Download the data"
      ]
    },
    {
      "cell_type": "markdown",
      "metadata": {
        "id": "t3I1jd7cKV6_",
        "colab_type": "text"
      },
      "source": [
        "Download the example data, a zip. of 2,000 JPG pictures of cats and dogs and extract it locally in ```/tmp```.\n",
        "\n"
      ]
    },
    {
      "cell_type": "code",
      "metadata": {
        "id": "JWjprHEXJ5Qi",
        "colab_type": "code",
        "outputId": "9e62aeec-0146-45cb-b33c-ab4542e0d140",
        "colab": {
          "base_uri": "https://localhost:8080/",
          "height": 204
        }
      },
      "source": [
        "!wget --no-check-certificate \\\n",
        "    https://storage.googleapis.com/mledu-datasets/cats_and_dogs_filtered.zip \\\n",
        "    -O /tmp/cats_and_dogs_filtered.zip"
      ],
      "execution_count": 2,
      "outputs": [
        {
          "output_type": "stream",
          "text": [
            "--2020-04-22 00:12:15--  https://storage.googleapis.com/mledu-datasets/cats_and_dogs_filtered.zip\n",
            "Resolving storage.googleapis.com (storage.googleapis.com)... 74.125.28.128, 2607:f8b0:400e:c07::80\n",
            "Connecting to storage.googleapis.com (storage.googleapis.com)|74.125.28.128|:443... connected.\n",
            "HTTP request sent, awaiting response... 200 OK\n",
            "Length: 68606236 (65M) [application/zip]\n",
            "Saving to: ‘/tmp/cats_and_dogs_filtered.zip’\n",
            "\n",
            "/tmp/cats_and_dogs_ 100%[===================>]  65.43M   100MB/s    in 0.7s    \n",
            "\n",
            "2020-04-22 00:12:16 (100 MB/s) - ‘/tmp/cats_and_dogs_filtered.zip’ saved [68606236/68606236]\n",
            "\n"
          ],
          "name": "stdout"
        }
      ]
    },
    {
      "cell_type": "code",
      "metadata": {
        "id": "WvoHtdA-K6Rw",
        "colab_type": "code",
        "colab": {}
      },
      "source": [
        "import os\n",
        "import zipfile\n",
        "\n",
        "local_zip = '/tmp/cats_and_dogs_filtered.zip'\n",
        "zip_ref = zipfile.ZipFile(local_zip, 'r')\n",
        "zip_ref.extractall('/tmp')\n",
        "zip_ref.close()"
      ],
      "execution_count": 0,
      "outputs": []
    },
    {
      "cell_type": "markdown",
      "metadata": {
        "id": "shZiOBnJMyy_",
        "colab_type": "text"
      },
      "source": [
        "Note that the data provided by Google does not have a test set."
      ]
    },
    {
      "cell_type": "code",
      "metadata": {
        "id": "dL8ikM89LlsH",
        "colab_type": "code",
        "colab": {}
      },
      "source": [
        "base_dir = '/tmp/cats_and_dogs_filtered'\n",
        "train_dir = os.path.join(base_dir, 'train')\n",
        "validation_dir = os.path.join(base_dir, 'validation')\n",
        "\n",
        "# Directory with our training cat pictures\n",
        "train_cats_dir = os.path.join(train_dir, 'cats')\n",
        "\n",
        "# Directory with our training dog pictures\n",
        "train_dogs_dir = os.path.join(train_dir, 'dogs')\n",
        "\n",
        "# Directory with our validation cat pictures\n",
        "validation_cats_dir = os.path.join(validation_dir, 'cats')\n",
        "\n",
        "# Directory with our validation dog pictures\n",
        "validation_dogs_dir = os.path.join(validation_dir, 'dogs')"
      ],
      "execution_count": 0,
      "outputs": []
    },
    {
      "cell_type": "markdown",
      "metadata": {
        "id": "inyP8bcdXnn-",
        "colab_type": "text"
      },
      "source": [
        "## Build network with InceptionV3 convolution base and custom densely connected layers"
      ]
    },
    {
      "cell_type": "markdown",
      "metadata": {
        "id": "kQ48W5T9rHWu",
        "colab_type": "text"
      },
      "source": [
        "### Load the convolutional base"
      ]
    },
    {
      "cell_type": "code",
      "metadata": {
        "id": "Y0FgtANCXm_H",
        "colab_type": "code",
        "outputId": "27d726d0-64a5-451c-a5de-63911c553b64",
        "colab": {
          "base_uri": "https://localhost:8080/",
          "height": 88
        }
      },
      "source": [
        "from keras.applications.inception_v3 import InceptionV3\n",
        "\n",
        "conv_base = InceptionV3(\n",
        "    weights='imagenet', \n",
        "    include_top=False, \n",
        "    input_shape=(150, 150, 3))"
      ],
      "execution_count": 6,
      "outputs": [
        {
          "output_type": "stream",
          "text": [
            "Using TensorFlow backend.\n"
          ],
          "name": "stderr"
        },
        {
          "output_type": "stream",
          "text": [
            "Downloading data from https://github.com/fchollet/deep-learning-models/releases/download/v0.5/inception_v3_weights_tf_dim_ordering_tf_kernels_notop.h5\n",
            "87916544/87910968 [==============================] - 2s 0us/step\n"
          ],
          "name": "stdout"
        }
      ]
    },
    {
      "cell_type": "markdown",
      "metadata": {
        "id": "D6OBHOO9q1ou",
        "colab_type": "text"
      },
      "source": [
        "### Freeze the convolutional base"
      ]
    },
    {
      "cell_type": "code",
      "metadata": {
        "id": "UleRo4Dpq6Ld",
        "colab_type": "code",
        "colab": {}
      },
      "source": [
        "conv_base.trainable = False"
      ],
      "execution_count": 0,
      "outputs": []
    },
    {
      "cell_type": "markdown",
      "metadata": {
        "id": "Qfx6PqhPrb7Q",
        "colab_type": "text"
      },
      "source": [
        "### Concatenate the convolutional base and densely connected layers"
      ]
    },
    {
      "cell_type": "code",
      "metadata": {
        "id": "qUpmocDAO3xm",
        "colab_type": "code",
        "colab": {}
      },
      "source": [
        "from keras import layers\n",
        "from keras import models\n",
        "from keras import optimizers\n",
        "\n",
        "model = models.Sequential()\n",
        "model.add(conv_base)\n",
        "model.add(layers.Flatten())\n",
        "model.add(layers.Dense(256, activation='relu'))\n",
        "#model.add(layers.Dropout(0.1))\n",
        "model.add(layers.Dense(1, activation='sigmoid'))"
      ],
      "execution_count": 0,
      "outputs": []
    },
    {
      "cell_type": "code",
      "metadata": {
        "id": "Fh6gZSeAjF7c",
        "colab_type": "code",
        "outputId": "95053c6c-b730-48e4-bb30-24610a451840",
        "colab": {
          "base_uri": "https://localhost:8080/",
          "height": 289
        }
      },
      "source": [
        "model.summary()"
      ],
      "execution_count": 11,
      "outputs": [
        {
          "output_type": "stream",
          "text": [
            "Model: \"sequential_2\"\n",
            "_________________________________________________________________\n",
            "Layer (type)                 Output Shape              Param #   \n",
            "=================================================================\n",
            "inception_v3 (Model)         (None, 3, 3, 2048)        21802784  \n",
            "_________________________________________________________________\n",
            "flatten_2 (Flatten)          (None, 18432)             0         \n",
            "_________________________________________________________________\n",
            "dense_3 (Dense)              (None, 256)               4718848   \n",
            "_________________________________________________________________\n",
            "dense_4 (Dense)              (None, 1)                 257       \n",
            "=================================================================\n",
            "Total params: 26,521,889\n",
            "Trainable params: 4,719,105\n",
            "Non-trainable params: 21,802,784\n",
            "_________________________________________________________________\n"
          ],
          "name": "stdout"
        }
      ]
    },
    {
      "cell_type": "markdown",
      "metadata": {
        "id": "eZjBiddhi5Qj",
        "colab_type": "text"
      },
      "source": [
        "## Train the model end to end with frozen convolutional base"
      ]
    },
    {
      "cell_type": "code",
      "metadata": {
        "id": "tfAQlC2Oi41L",
        "colab_type": "code",
        "outputId": "9b36da18-ee42-487c-af95-59e1b464aeca",
        "colab": {
          "base_uri": "https://localhost:8080/",
          "height": 1000
        }
      },
      "source": [
        "from keras.preprocessing.image import ImageDataGenerator\n",
        "from keras import optimizers\n",
        "\n",
        "# data augmentation\n",
        "\n",
        "train_datagen = ImageDataGenerator(\n",
        "    rescale=1./255, \n",
        "    rotation_range=40,\n",
        "    width_shift_range=0.2,\n",
        "    height_shift_range=0.2,\n",
        "    shear_range=0.2,\n",
        "    zoom_range=0.2,\n",
        "    horizontal_flip=True,\n",
        "    fill_mode='nearest'\n",
        ")\n",
        "\n",
        "train_generator = train_datagen.flow_from_directory(\n",
        "    train_dir,\n",
        "    target_size=(150, 150),\n",
        "    batch_size=20,\n",
        "    class_mode='binary')\n",
        "\n",
        "validation_datagen = ImageDataGenerator(rescale=1./255)\n",
        "\n",
        "validation_generator = validation_datagen.flow_from_directory(\n",
        "    validation_dir,\n",
        "    target_size=(150, 150),\n",
        "    batch_size=20,\n",
        "    class_mode='binary')\n",
        "\n",
        "# compile model\n",
        "\n",
        "model.compile(\n",
        "    loss='binary_crossentropy', \n",
        "    optimizer=optimizers.RMSprop(lr=2e-5), \n",
        "    metrics=['acc'])\n",
        "\n",
        "# train\n",
        "\n",
        "history = model.fit_generator(\n",
        "    train_generator,\n",
        "    steps_per_epoch=100,\n",
        "    epochs=30,\n",
        "    validation_data=validation_generator,\n",
        "    validation_steps=50\n",
        ")"
      ],
      "execution_count": 10,
      "outputs": [
        {
          "output_type": "stream",
          "text": [
            "Found 2000 images belonging to 2 classes.\n",
            "Found 1000 images belonging to 2 classes.\n",
            "Epoch 1/30\n",
            "100/100 [==============================] - 28s 278ms/step - loss: 0.5923 - acc: 0.6600 - val_loss: 0.1388 - val_acc: 0.9350\n",
            "Epoch 2/30\n",
            "100/100 [==============================] - 17s 169ms/step - loss: 0.4969 - acc: 0.7480 - val_loss: 0.0134 - val_acc: 0.9470\n",
            "Epoch 3/30\n",
            "100/100 [==============================] - 17s 171ms/step - loss: 0.4774 - acc: 0.7710 - val_loss: 0.4953 - val_acc: 0.9340\n",
            "Epoch 4/30\n",
            "100/100 [==============================] - 17s 172ms/step - loss: 0.4760 - acc: 0.7765 - val_loss: 8.6294e-04 - val_acc: 0.9460\n",
            "Epoch 5/30\n",
            "100/100 [==============================] - 17s 174ms/step - loss: 0.4346 - acc: 0.7920 - val_loss: 1.0088 - val_acc: 0.9300\n",
            "Epoch 6/30\n",
            "100/100 [==============================] - 17s 173ms/step - loss: 0.4313 - acc: 0.7955 - val_loss: 0.8231 - val_acc: 0.9270\n",
            "Epoch 7/30\n",
            "100/100 [==============================] - 17s 173ms/step - loss: 0.4202 - acc: 0.7960 - val_loss: 0.6390 - val_acc: 0.9370\n",
            "Epoch 8/30\n",
            "100/100 [==============================] - 17s 171ms/step - loss: 0.3965 - acc: 0.8120 - val_loss: 7.6382e-06 - val_acc: 0.9420\n",
            "Epoch 9/30\n",
            "100/100 [==============================] - 17s 174ms/step - loss: 0.4182 - acc: 0.8055 - val_loss: 0.0797 - val_acc: 0.9480\n",
            "Epoch 10/30\n",
            "100/100 [==============================] - 17s 173ms/step - loss: 0.3883 - acc: 0.8275 - val_loss: 0.0801 - val_acc: 0.9410\n",
            "Epoch 11/30\n",
            "100/100 [==============================] - 17s 173ms/step - loss: 0.3957 - acc: 0.8220 - val_loss: 0.2208 - val_acc: 0.9500\n",
            "Epoch 12/30\n",
            "100/100 [==============================] - 17s 174ms/step - loss: 0.3990 - acc: 0.8130 - val_loss: 0.1494 - val_acc: 0.9400\n",
            "Epoch 13/30\n",
            "100/100 [==============================] - 18s 176ms/step - loss: 0.3809 - acc: 0.8125 - val_loss: 0.2092 - val_acc: 0.9460\n",
            "Epoch 14/30\n",
            "100/100 [==============================] - 17s 175ms/step - loss: 0.3731 - acc: 0.8310 - val_loss: 0.3321 - val_acc: 0.9490\n",
            "Epoch 15/30\n",
            "100/100 [==============================] - 18s 175ms/step - loss: 0.3797 - acc: 0.8265 - val_loss: 0.3213 - val_acc: 0.9500\n",
            "Epoch 16/30\n",
            "100/100 [==============================] - 17s 175ms/step - loss: 0.3710 - acc: 0.8365 - val_loss: 0.0035 - val_acc: 0.9460\n",
            "Epoch 17/30\n",
            "100/100 [==============================] - 17s 174ms/step - loss: 0.3592 - acc: 0.8385 - val_loss: 5.1851e-04 - val_acc: 0.9460\n",
            "Epoch 18/30\n",
            "100/100 [==============================] - 18s 177ms/step - loss: 0.3768 - acc: 0.8185 - val_loss: 0.7067 - val_acc: 0.9500\n",
            "Epoch 19/30\n",
            "100/100 [==============================] - 17s 175ms/step - loss: 0.3592 - acc: 0.8455 - val_loss: 0.2630 - val_acc: 0.9420\n",
            "Epoch 20/30\n",
            "100/100 [==============================] - 18s 176ms/step - loss: 0.3655 - acc: 0.8310 - val_loss: 0.0383 - val_acc: 0.9480\n",
            "Epoch 21/30\n",
            "100/100 [==============================] - 18s 175ms/step - loss: 0.3717 - acc: 0.8310 - val_loss: 9.0678e-04 - val_acc: 0.9520\n",
            "Epoch 22/30\n",
            "100/100 [==============================] - 18s 176ms/step - loss: 0.3725 - acc: 0.8250 - val_loss: 0.0035 - val_acc: 0.9460\n",
            "Epoch 23/30\n",
            "100/100 [==============================] - 18s 182ms/step - loss: 0.3650 - acc: 0.8300 - val_loss: 0.8310 - val_acc: 0.9440\n",
            "Epoch 24/30\n",
            "100/100 [==============================] - 17s 174ms/step - loss: 0.3497 - acc: 0.8490 - val_loss: 0.0036 - val_acc: 0.9370\n",
            "Epoch 25/30\n",
            "100/100 [==============================] - 18s 177ms/step - loss: 0.3581 - acc: 0.8420 - val_loss: 0.7937 - val_acc: 0.9490\n",
            "Epoch 26/30\n",
            "100/100 [==============================] - 17s 175ms/step - loss: 0.3511 - acc: 0.8375 - val_loss: 0.1750 - val_acc: 0.9420\n",
            "Epoch 27/30\n",
            "100/100 [==============================] - 18s 176ms/step - loss: 0.3487 - acc: 0.8400 - val_loss: 0.1477 - val_acc: 0.9520\n",
            "Epoch 28/30\n",
            "100/100 [==============================] - 17s 175ms/step - loss: 0.3658 - acc: 0.8345 - val_loss: 0.6831 - val_acc: 0.9490\n",
            "Epoch 29/30\n",
            "100/100 [==============================] - 17s 174ms/step - loss: 0.3441 - acc: 0.8430 - val_loss: 0.4073 - val_acc: 0.9510\n",
            "Epoch 30/30\n",
            "100/100 [==============================] - 18s 176ms/step - loss: 0.3672 - acc: 0.8410 - val_loss: 1.7597e-04 - val_acc: 0.9500\n"
          ],
          "name": "stdout"
        }
      ]
    },
    {
      "cell_type": "markdown",
      "metadata": {
        "id": "xqRc_vHKc92U",
        "colab_type": "text"
      },
      "source": [
        "## Display curves of loss and accuracy during training"
      ]
    },
    {
      "cell_type": "code",
      "metadata": {
        "id": "ybWwdzz9bwuQ",
        "colab_type": "code",
        "outputId": "e6f619e2-3856-47f9-a977-75b5ebdc0a19",
        "colab": {
          "base_uri": "https://localhost:8080/",
          "height": 545
        }
      },
      "source": [
        "%matplotlib inline\n",
        "\n",
        "import matplotlib.pyplot as plt\n",
        "\n",
        "acc = history.history['acc']\n",
        "val_acc = history.history['val_acc']\n",
        "\n",
        "loss = history.history['loss']\n",
        "val_loss = history.history['val_loss']\n",
        "\n",
        "epochs = range(1, len(acc) + 1)\n",
        "\n",
        "# training and validation accuracy\n",
        "\n",
        "plt.plot(epochs, acc, 'bo', label='training acc')\n",
        "plt.plot(epochs, val_acc, 'b', label='validation acc')\n",
        "plt.title('training and validation accuracy')\n",
        "plt.legend()\n",
        "\n",
        "plt.figure()\n",
        "\n",
        "# training and validation loss\n",
        "\n",
        "plt.plot(epochs, loss, 'bo', label='training loss')\n",
        "plt.plot(epochs, val_loss, 'b', label='validation loss')\n",
        "plt.title('training and validation loss')\n",
        "plt.legend()\n",
        "\n",
        "plt.show()"
      ],
      "execution_count": 12,
      "outputs": [
        {
          "output_type": "display_data",
          "data": {
            "image/png": "[encoded data removed]",
            "text/plain": [
              "<Figure size 432x288 with 1 Axes>"
            ]
          },
          "metadata": {
            "tags": [],
            "needs_background": "light"
          }
        },
        {
          "output_type": "display_data",
          "data": {
            "image/png": "[encoded data removed]",
            "text/plain": [
              "<Figure size 432x288 with 1 Axes>"
            ]
          },
          "metadata": {
            "tags": [],
            "needs_background": "light"
          }
        }
      ]
    },
    {
      "cell_type": "markdown",
      "metadata": {
        "id": "lOWsxpey8lN0",
        "colab_type": "text"
      },
      "source": [
        "## Fine-tuning"
      ]
    },
    {
      "cell_type": "code",
      "metadata": {
        "id": "PwkVMx8N8qMw",
        "colab_type": "code",
        "colab": {}
      },
      "source": [
        "conv_base.trainable = True\n",
        "\n",
        "start_tuning = 85\n",
        "\n",
        "for layer in conv_base.layers[:start_tuning]:\n",
        "  layer.trainable = False"
      ],
      "execution_count": 0,
      "outputs": []
    },
    {
      "cell_type": "code",
      "metadata": {
        "id": "DyN-J7rs9cvo",
        "colab_type": "code",
        "outputId": "2ad56242-7024-473c-81be-98c14d85f769",
        "colab": {
          "base_uri": "https://localhost:8080/",
          "height": 1000
        }
      },
      "source": [
        "# compile model\n",
        "\n",
        "model.compile(\n",
        "    loss='binary_crossentropy',\n",
        "    #\n",
        "    # choose a smaller learning rate\n",
        "    #\n",
        "    optimizer=optimizers.RMSprop(lr=1e-5), \n",
        "    metrics=['acc'])\n",
        "\n",
        "# train\n",
        "\n",
        "history = model.fit_generator(\n",
        "    train_generator,\n",
        "    steps_per_epoch=100,\n",
        "    epochs=100,\n",
        "    validation_data=validation_generator,\n",
        "    validation_steps=50)"
      ],
      "execution_count": 16,
      "outputs": [
        {
          "output_type": "stream",
          "text": [
            "Epoch 1/100\n",
            "100/100 [==============================] - 36s 356ms/step - loss: 0.3231 - acc: 0.8595 - val_loss: 0.3260 - val_acc: 0.9340\n",
            "Epoch 2/100\n",
            "100/100 [==============================] - 22s 220ms/step - loss: 0.3162 - acc: 0.8535 - val_loss: 0.2068 - val_acc: 0.8980\n",
            "Epoch 3/100\n",
            "100/100 [==============================] - 22s 216ms/step - loss: 0.2954 - acc: 0.8655 - val_loss: 0.3842 - val_acc: 0.9120\n",
            "Epoch 4/100\n",
            "100/100 [==============================] - 22s 218ms/step - loss: 0.2782 - acc: 0.8800 - val_loss: 0.3235 - val_acc: 0.9080\n",
            "Epoch 5/100\n",
            "100/100 [==============================] - 22s 215ms/step - loss: 0.2507 - acc: 0.8880 - val_loss: 0.1038 - val_acc: 0.9090\n",
            "Epoch 6/100\n",
            "100/100 [==============================] - 22s 218ms/step - loss: 0.2582 - acc: 0.8910 - val_loss: 0.0713 - val_acc: 0.9110\n",
            "Epoch 7/100\n",
            "100/100 [==============================] - 22s 216ms/step - loss: 0.2552 - acc: 0.8885 - val_loss: 0.2321 - val_acc: 0.9270\n",
            "Epoch 8/100\n",
            "100/100 [==============================] - 21s 215ms/step - loss: 0.2399 - acc: 0.9010 - val_loss: 0.1835 - val_acc: 0.9230\n",
            "Epoch 9/100\n",
            "100/100 [==============================] - 21s 215ms/step - loss: 0.2059 - acc: 0.9155 - val_loss: 0.1890 - val_acc: 0.9260\n",
            "Epoch 10/100\n",
            "100/100 [==============================] - 22s 216ms/step - loss: 0.1918 - acc: 0.9135 - val_loss: 0.0657 - val_acc: 0.9290\n",
            "Epoch 11/100\n",
            "100/100 [==============================] - 22s 217ms/step - loss: 0.1953 - acc: 0.9220 - val_loss: 0.1031 - val_acc: 0.9370\n",
            "Epoch 12/100\n",
            "100/100 [==============================] - 22s 216ms/step - loss: 0.2274 - acc: 0.9055 - val_loss: 0.0447 - val_acc: 0.9300\n",
            "Epoch 13/100\n",
            "100/100 [==============================] - 22s 219ms/step - loss: 0.2147 - acc: 0.9105 - val_loss: 0.2247 - val_acc: 0.9320\n",
            "Epoch 14/100\n",
            "100/100 [==============================] - 22s 218ms/step - loss: 0.1909 - acc: 0.9190 - val_loss: 0.1846 - val_acc: 0.9310\n",
            "Epoch 15/100\n",
            "100/100 [==============================] - 22s 216ms/step - loss: 0.1767 - acc: 0.9295 - val_loss: 0.0310 - val_acc: 0.9370\n",
            "Epoch 16/100\n",
            "100/100 [==============================] - 22s 221ms/step - loss: 0.1715 - acc: 0.9295 - val_loss: 0.4632 - val_acc: 0.9380\n",
            "Epoch 17/100\n",
            "100/100 [==============================] - 22s 220ms/step - loss: 0.1772 - acc: 0.9345 - val_loss: 0.6695 - val_acc: 0.9330\n",
            "Epoch 18/100\n",
            "100/100 [==============================] - 22s 218ms/step - loss: 0.1588 - acc: 0.9385 - val_loss: 0.1309 - val_acc: 0.9340\n",
            "Epoch 19/100\n",
            "100/100 [==============================] - 21s 215ms/step - loss: 0.1515 - acc: 0.9340 - val_loss: 0.3947 - val_acc: 0.9350\n",
            "Epoch 20/100\n",
            "100/100 [==============================] - 22s 219ms/step - loss: 0.1581 - acc: 0.9305 - val_loss: 0.4614 - val_acc: 0.9350\n",
            "Epoch 21/100\n",
            "100/100 [==============================] - 22s 220ms/step - loss: 0.1441 - acc: 0.9405 - val_loss: 0.0169 - val_acc: 0.9310\n",
            "Epoch 22/100\n",
            "100/100 [==============================] - 22s 216ms/step - loss: 0.1375 - acc: 0.9490 - val_loss: 0.1156 - val_acc: 0.9330\n",
            "Epoch 23/100\n",
            "100/100 [==============================] - 22s 220ms/step - loss: 0.1346 - acc: 0.9460 - val_loss: 0.1716 - val_acc: 0.9350\n",
            "Epoch 24/100\n",
            "100/100 [==============================] - 22s 220ms/step - loss: 0.1448 - acc: 0.9450 - val_loss: 0.2488 - val_acc: 0.9470\n",
            "Epoch 25/100\n",
            "100/100 [==============================] - 22s 221ms/step - loss: 0.1329 - acc: 0.9515 - val_loss: 0.1544 - val_acc: 0.9430\n",
            "Epoch 26/100\n",
            "100/100 [==============================] - 22s 218ms/step - loss: 0.1384 - acc: 0.9510 - val_loss: 0.0087 - val_acc: 0.9400\n",
            "Epoch 27/100\n",
            "100/100 [==============================] - 22s 220ms/step - loss: 0.1267 - acc: 0.9485 - val_loss: 0.3150 - val_acc: 0.9390\n",
            "Epoch 28/100\n",
            "100/100 [==============================] - 22s 223ms/step - loss: 0.1172 - acc: 0.9520 - val_loss: 0.1367 - val_acc: 0.9390\n",
            "Epoch 29/100\n",
            "100/100 [==============================] - 22s 220ms/step - loss: 0.1212 - acc: 0.9595 - val_loss: 0.0705 - val_acc: 0.9450\n",
            "Epoch 30/100\n",
            "100/100 [==============================] - 22s 224ms/step - loss: 0.0989 - acc: 0.9605 - val_loss: 0.1193 - val_acc: 0.9430\n",
            "Epoch 31/100\n",
            "100/100 [==============================] - 22s 221ms/step - loss: 0.1058 - acc: 0.9575 - val_loss: 0.0067 - val_acc: 0.9460\n",
            "Epoch 32/100\n",
            "100/100 [==============================] - 22s 219ms/step - loss: 0.1332 - acc: 0.9530 - val_loss: 0.2463 - val_acc: 0.9430\n",
            "Epoch 33/100\n",
            "100/100 [==============================] - 22s 220ms/step - loss: 0.1012 - acc: 0.9615 - val_loss: 0.2157 - val_acc: 0.9370\n",
            "Epoch 34/100\n",
            "100/100 [==============================] - 22s 219ms/step - loss: 0.1097 - acc: 0.9580 - val_loss: 0.0604 - val_acc: 0.9490\n",
            "Epoch 35/100\n",
            "100/100 [==============================] - 22s 219ms/step - loss: 0.0908 - acc: 0.9635 - val_loss: 0.0017 - val_acc: 0.9400\n",
            "Epoch 36/100\n",
            "100/100 [==============================] - 22s 221ms/step - loss: 0.0915 - acc: 0.9670 - val_loss: 0.0646 - val_acc: 0.9470\n",
            "Epoch 37/100\n",
            "100/100 [==============================] - 22s 221ms/step - loss: 0.1137 - acc: 0.9555 - val_loss: 0.3327 - val_acc: 0.9500\n",
            "Epoch 38/100\n",
            "100/100 [==============================] - 22s 219ms/step - loss: 0.0879 - acc: 0.9630 - val_loss: 0.0142 - val_acc: 0.9430\n",
            "Epoch 39/100\n",
            "100/100 [==============================] - 22s 223ms/step - loss: 0.1048 - acc: 0.9610 - val_loss: 0.0164 - val_acc: 0.9520\n",
            "Epoch 40/100\n",
            "100/100 [==============================] - 22s 220ms/step - loss: 0.1107 - acc: 0.9605 - val_loss: 0.1100 - val_acc: 0.9430\n",
            "Epoch 41/100\n",
            "100/100 [==============================] - 22s 220ms/step - loss: 0.0728 - acc: 0.9700 - val_loss: 0.1289 - val_acc: 0.9480\n",
            "Epoch 42/100\n",
            "100/100 [==============================] - 22s 219ms/step - loss: 0.0779 - acc: 0.9750 - val_loss: 0.3517 - val_acc: 0.9420\n",
            "Epoch 43/100\n",
            "100/100 [==============================] - 22s 223ms/step - loss: 0.0717 - acc: 0.9685 - val_loss: 0.0420 - val_acc: 0.9450\n",
            "Epoch 44/100\n",
            "100/100 [==============================] - 22s 222ms/step - loss: 0.0966 - acc: 0.9655 - val_loss: 0.1953 - val_acc: 0.9480\n",
            "Epoch 45/100\n",
            "100/100 [==============================] - 22s 220ms/step - loss: 0.0768 - acc: 0.9735 - val_loss: 0.0052 - val_acc: 0.9530\n",
            "Epoch 46/100\n",
            "100/100 [==============================] - 22s 222ms/step - loss: 0.0983 - acc: 0.9645 - val_loss: 0.0730 - val_acc: 0.9530\n",
            "Epoch 47/100\n",
            "100/100 [==============================] - 22s 224ms/step - loss: 0.0912 - acc: 0.9730 - val_loss: 0.2564 - val_acc: 0.9430\n",
            "Epoch 48/100\n",
            "100/100 [==============================] - 22s 222ms/step - loss: 0.0902 - acc: 0.9685 - val_loss: 0.0015 - val_acc: 0.9520\n",
            "Epoch 49/100\n",
            "100/100 [==============================] - 22s 221ms/step - loss: 0.0654 - acc: 0.9725 - val_loss: 0.2252 - val_acc: 0.9500\n",
            "Epoch 50/100\n",
            "100/100 [==============================] - 22s 224ms/step - loss: 0.0624 - acc: 0.9715 - val_loss: 0.4179 - val_acc: 0.9500\n",
            "Epoch 51/100\n",
            "100/100 [==============================] - 22s 222ms/step - loss: 0.0781 - acc: 0.9695 - val_loss: 0.0728 - val_acc: 0.9490\n",
            "Epoch 52/100\n",
            "100/100 [==============================] - 22s 222ms/step - loss: 0.0601 - acc: 0.9745 - val_loss: 0.6420 - val_acc: 0.9500\n",
            "Epoch 53/100\n",
            "100/100 [==============================] - 22s 222ms/step - loss: 0.0603 - acc: 0.9800 - val_loss: 0.0129 - val_acc: 0.9530\n",
            "Epoch 54/100\n",
            "100/100 [==============================] - 22s 224ms/step - loss: 0.0764 - acc: 0.9755 - val_loss: 0.2177 - val_acc: 0.9530\n",
            "Epoch 55/100\n",
            "100/100 [==============================] - 22s 222ms/step - loss: 0.0650 - acc: 0.9735 - val_loss: 0.3705 - val_acc: 0.9540\n",
            "Epoch 56/100\n",
            "100/100 [==============================] - 22s 221ms/step - loss: 0.0551 - acc: 0.9805 - val_loss: 0.1533 - val_acc: 0.9500\n",
            "Epoch 57/100\n",
            "100/100 [==============================] - 23s 227ms/step - loss: 0.0637 - acc: 0.9760 - val_loss: 0.0501 - val_acc: 0.9490\n",
            "Epoch 58/100\n",
            "100/100 [==============================] - 23s 226ms/step - loss: 0.0715 - acc: 0.9720 - val_loss: 0.2113 - val_acc: 0.9540\n",
            "Epoch 59/100\n",
            "100/100 [==============================] - 22s 221ms/step - loss: 0.0538 - acc: 0.9810 - val_loss: 0.3624 - val_acc: 0.9500\n",
            "Epoch 60/100\n",
            "100/100 [==============================] - 23s 226ms/step - loss: 0.0736 - acc: 0.9790 - val_loss: 0.0089 - val_acc: 0.9540\n",
            "Epoch 61/100\n",
            "100/100 [==============================] - 23s 228ms/step - loss: 0.0676 - acc: 0.9760 - val_loss: 0.0024 - val_acc: 0.9510\n",
            "Epoch 62/100\n",
            "100/100 [==============================] - 22s 224ms/step - loss: 0.0635 - acc: 0.9775 - val_loss: 0.1727 - val_acc: 0.9510\n",
            "Epoch 63/100\n",
            "100/100 [==============================] - 22s 223ms/step - loss: 0.0651 - acc: 0.9780 - val_loss: 0.6162 - val_acc: 0.9500\n",
            "Epoch 64/100\n",
            "100/100 [==============================] - 22s 223ms/step - loss: 0.0558 - acc: 0.9800 - val_loss: 0.0014 - val_acc: 0.9500\n",
            "Epoch 65/100\n",
            "100/100 [==============================] - 22s 223ms/step - loss: 0.0742 - acc: 0.9785 - val_loss: 0.0204 - val_acc: 0.9510\n",
            "Epoch 66/100\n",
            "100/100 [==============================] - 22s 219ms/step - loss: 0.0491 - acc: 0.9815 - val_loss: 0.3044 - val_acc: 0.9530\n",
            "Epoch 67/100\n",
            "100/100 [==============================] - 22s 223ms/step - loss: 0.0425 - acc: 0.9850 - val_loss: 0.9955 - val_acc: 0.9540\n",
            "Epoch 68/100\n",
            "100/100 [==============================] - 22s 224ms/step - loss: 0.0509 - acc: 0.9795 - val_loss: 0.1438 - val_acc: 0.9550\n",
            "Epoch 69/100\n",
            "100/100 [==============================] - 22s 222ms/step - loss: 0.0490 - acc: 0.9825 - val_loss: 0.0498 - val_acc: 0.9550\n",
            "Epoch 70/100\n",
            "100/100 [==============================] - 22s 222ms/step - loss: 0.0586 - acc: 0.9790 - val_loss: 4.8945e-04 - val_acc: 0.9560\n",
            "Epoch 71/100\n",
            "100/100 [==============================] - 22s 225ms/step - loss: 0.0509 - acc: 0.9815 - val_loss: 0.0012 - val_acc: 0.9560\n",
            "Epoch 72/100\n",
            "100/100 [==============================] - 22s 223ms/step - loss: 0.0572 - acc: 0.9785 - val_loss: 0.5904 - val_acc: 0.9530\n",
            "Epoch 73/100\n",
            "100/100 [==============================] - 22s 223ms/step - loss: 0.0439 - acc: 0.9860 - val_loss: 0.1297 - val_acc: 0.9560\n",
            "Epoch 74/100\n",
            "100/100 [==============================] - 22s 222ms/step - loss: 0.0284 - acc: 0.9900 - val_loss: 0.0428 - val_acc: 0.9580\n",
            "Epoch 75/100\n",
            "100/100 [==============================] - 22s 225ms/step - loss: 0.0616 - acc: 0.9800 - val_loss: 0.0022 - val_acc: 0.9550\n",
            "Epoch 76/100\n",
            "100/100 [==============================] - 22s 223ms/step - loss: 0.0379 - acc: 0.9890 - val_loss: 0.8119 - val_acc: 0.9550\n",
            "Epoch 77/100\n",
            "100/100 [==============================] - 22s 221ms/step - loss: 0.0654 - acc: 0.9815 - val_loss: 0.0093 - val_acc: 0.9560\n",
            "Epoch 78/100\n",
            "100/100 [==============================] - 22s 222ms/step - loss: 0.0523 - acc: 0.9780 - val_loss: 0.0376 - val_acc: 0.9520\n",
            "Epoch 79/100\n",
            "100/100 [==============================] - 22s 224ms/step - loss: 0.0541 - acc: 0.9820 - val_loss: 0.3999 - val_acc: 0.9520\n",
            "Epoch 80/100\n",
            "100/100 [==============================] - 22s 220ms/step - loss: 0.0325 - acc: 0.9895 - val_loss: 0.0193 - val_acc: 0.9550\n",
            "Epoch 81/100\n",
            "100/100 [==============================] - 22s 222ms/step - loss: 0.0580 - acc: 0.9830 - val_loss: 0.0822 - val_acc: 0.9540\n",
            "Epoch 82/100\n",
            "100/100 [==============================] - 22s 222ms/step - loss: 0.0403 - acc: 0.9865 - val_loss: 0.0017 - val_acc: 0.9520\n",
            "Epoch 83/100\n",
            "100/100 [==============================] - 22s 220ms/step - loss: 0.0358 - acc: 0.9885 - val_loss: 0.3663 - val_acc: 0.9560\n",
            "Epoch 84/100\n",
            "100/100 [==============================] - 22s 220ms/step - loss: 0.0464 - acc: 0.9840 - val_loss: 0.1408 - val_acc: 0.9540\n",
            "Epoch 85/100\n",
            "100/100 [==============================] - 22s 222ms/step - loss: 0.0423 - acc: 0.9855 - val_loss: 0.1825 - val_acc: 0.9560\n",
            "Epoch 86/100\n",
            "100/100 [==============================] - 22s 222ms/step - loss: 0.0561 - acc: 0.9835 - val_loss: 0.2981 - val_acc: 0.9570\n",
            "Epoch 87/100\n",
            "100/100 [==============================] - 22s 221ms/step - loss: 0.0452 - acc: 0.9835 - val_loss: 0.3733 - val_acc: 0.9600\n",
            "Epoch 88/100\n",
            "100/100 [==============================] - 22s 222ms/step - loss: 0.0492 - acc: 0.9835 - val_loss: 0.4858 - val_acc: 0.9570\n",
            "Epoch 89/100\n",
            "100/100 [==============================] - 22s 222ms/step - loss: 0.0277 - acc: 0.9880 - val_loss: 0.0055 - val_acc: 0.9550\n",
            "Epoch 90/100\n",
            "100/100 [==============================] - 22s 221ms/step - loss: 0.0386 - acc: 0.9865 - val_loss: 0.2385 - val_acc: 0.9570\n",
            "Epoch 91/100\n",
            "100/100 [==============================] - 22s 221ms/step - loss: 0.0416 - acc: 0.9850 - val_loss: 0.7088 - val_acc: 0.9550\n",
            "Epoch 92/100\n",
            "100/100 [==============================] - 22s 224ms/step - loss: 0.0407 - acc: 0.9885 - val_loss: 0.2180 - val_acc: 0.9580\n",
            "Epoch 93/100\n",
            "100/100 [==============================] - 22s 220ms/step - loss: 0.0373 - acc: 0.9900 - val_loss: 0.1796 - val_acc: 0.9610\n",
            "Epoch 94/100\n",
            "100/100 [==============================] - 22s 224ms/step - loss: 0.0245 - acc: 0.9905 - val_loss: 0.0024 - val_acc: 0.9540\n",
            "Epoch 95/100\n",
            "100/100 [==============================] - 22s 223ms/step - loss: 0.0376 - acc: 0.9900 - val_loss: 0.0132 - val_acc: 0.9490\n",
            "Epoch 96/100\n",
            "100/100 [==============================] - 22s 221ms/step - loss: 0.0244 - acc: 0.9920 - val_loss: 0.4212 - val_acc: 0.9510\n",
            "Epoch 97/100\n",
            "100/100 [==============================] - 23s 225ms/step - loss: 0.0286 - acc: 0.9945 - val_loss: 0.0329 - val_acc: 0.9540\n",
            "Epoch 98/100\n",
            "100/100 [==============================] - 22s 225ms/step - loss: 0.0420 - acc: 0.9860 - val_loss: 0.0016 - val_acc: 0.9490\n",
            "Epoch 99/100\n",
            "100/100 [==============================] - 22s 224ms/step - loss: 0.0243 - acc: 0.9940 - val_loss: 0.0019 - val_acc: 0.9520\n",
            "Epoch 100/100\n",
            "100/100 [==============================] - 23s 226ms/step - loss: 0.0430 - acc: 0.9845 - val_loss: 0.0144 - val_acc: 0.9540\n"
          ],
          "name": "stdout"
        }
      ]
    },
    {
      "cell_type": "markdown",
      "metadata": {
        "id": "eVBQgh5M-Rtz",
        "colab_type": "text"
      },
      "source": [
        "## Display learning curves during fine-tuning"
      ]
    },
    {
      "cell_type": "code",
      "metadata": {
        "id": "mbkIw7Ie-NP4",
        "colab_type": "code",
        "outputId": "3e28744d-5dda-4a52-8bde-ae82ce412120",
        "colab": {
          "base_uri": "https://localhost:8080/",
          "height": 545
        }
      },
      "source": [
        "%matplotlib inline\n",
        "\n",
        "import matplotlib.pyplot as plt\n",
        "\n",
        "acc = history.history['acc']\n",
        "val_acc = history.history['val_acc']\n",
        "\n",
        "loss = history.history['loss']\n",
        "val_loss = history.history['val_loss']\n",
        "\n",
        "epochs = range(1, len(acc) + 1)\n",
        "\n",
        "# training and validation accuracy\n",
        "\n",
        "plt.plot(epochs, acc, 'bo', label='training acc')\n",
        "plt.plot(epochs, val_acc, 'b', label='validation acc')\n",
        "plt.title('training and validation accuracy')\n",
        "plt.legend()\n",
        "\n",
        "plt.figure()\n",
        "\n",
        "# training and validation loss\n",
        "\n",
        "plt.plot(epochs, loss, 'bo', label='training loss')\n",
        "plt.plot(epochs, val_loss, 'b', label='validation loss')\n",
        "plt.title('training and validation loss')\n",
        "plt.legend()\n",
        "\n",
        "plt.show()"
      ],
      "execution_count": 17,
      "outputs": [
        {
          "output_type": "display_data",
          "data": {
            "image/png": "[encoded data removed]",
            "text/plain": [
              "<Figure size 432x288 with 1 Axes>"
            ]
          },
          "metadata": {
            "tags": [],
            "needs_background": "light"
          }
        },
        {
          "output_type": "display_data",
          "data": {
            "image/png": "[encoded data removed]",
            "text/plain": [
              "<Figure size 432x288 with 1 Axes>"
            ]
          },
          "metadata": {
            "tags": [],
            "needs_background": "light"
          }
        }
      ]
    },
    {
      "cell_type": "markdown",
      "metadata": {
        "id": "he3Nw6TOJwjx",
        "colab_type": "text"
      },
      "source": [
        "## Print out validation loss and accuracy"
      ]
    },
    {
      "cell_type": "code",
      "metadata": {
        "id": "SVQtrk7uJdhl",
        "colab_type": "code",
        "colab": {}
      },
      "source": [
        "val_loss, val_acc = model.evaluate_generator(validation_generator, steps=50)"
      ],
      "execution_count": 0,
      "outputs": []
    },
    {
      "cell_type": "code",
      "metadata": {
        "id": "HpdddLi1SUMe",
        "colab_type": "code",
        "outputId": "ea3d8609-dc76-41ba-ba2b-ed7b115da578",
        "colab": {
          "base_uri": "https://localhost:8080/",
          "height": 51
        }
      },
      "source": [
        "print(\"Validation loss:\", val_loss)\n",
        "print(\"Validation accuracy:\", val_acc)"
      ],
      "execution_count": 19,
      "outputs": [
        {
          "output_type": "stream",
          "text": [
            "Validation loss: 0.00014845917758066207\n",
            "Validation accuracy: 0.9539999961853027\n"
          ],
          "name": "stdout"
        }
      ]
    },
    {
      "cell_type": "markdown",
      "metadata": {
        "id": "7Ww756WToby8",
        "colab_type": "text"
      },
      "source": [
        "## Save the model"
      ]
    },
    {
      "cell_type": "code",
      "metadata": {
        "id": "0lTUpUdwobKW",
        "colab_type": "code",
        "colab": {}
      },
      "source": [
        "model_fname = 'cats_and_dogs_small_4.h5' \n",
        "model.save(model_fname)"
      ],
      "execution_count": 0,
      "outputs": []
    },
    {
      "cell_type": "code",
      "metadata": {
        "id": "YhEoI8ZTok-X",
        "colab_type": "code",
        "colab": {
          "base_uri": "https://localhost:8080/",
          "height": 442
        },
        "outputId": "8561ec10-7b25-4997-a2c1-a4a2a72498d8"
      },
      "source": [
        "from google.colab import files\n",
        "\n",
        "with open(model_fname, 'r') as f:\n",
        "  files.download(model_fname)"
      ],
      "execution_count": 21,
      "outputs": [
        {
          "output_type": "stream",
          "text": [
            "----------------------------------------\n",
            "Exception happened during processing of request from ('::ffff:127.0.0.1', 39848, 0, 0)\n",
            "Traceback (most recent call last):\n",
            "  File \"/usr/lib/python3.6/socketserver.py\", line 320, in _handle_request_noblock\n",
            "    self.process_request(request, client_address)\n",
            "  File \"/usr/lib/python3.6/socketserver.py\", line 351, in process_request\n",
            "    self.finish_request(request, client_address)\n",
            "  File \"/usr/lib/python3.6/socketserver.py\", line 364, in finish_request\n",
            "    self.RequestHandlerClass(request, client_address, self)\n",
            "  File \"/usr/lib/python3.6/socketserver.py\", line 724, in __init__\n",
            "    self.handle()\n",
            "  File \"/usr/lib/python3.6/http/server.py\", line 418, in handle\n",
            "    self.handle_one_request()\n",
            "  File \"/usr/lib/python3.6/http/server.py\", line 406, in handle_one_request\n",
            "    method()\n",
            "  File \"/usr/lib/python3.6/http/server.py\", line 639, in do_GET\n",
            "    self.copyfile(f, self.wfile)\n",
            "  File \"/usr/lib/python3.6/http/server.py\", line 800, in copyfile\n",
            "    shutil.copyfileobj(source, outputfile)\n",
            "  File \"/usr/lib/python3.6/shutil.py\", line 82, in copyfileobj\n",
            "    fdst.write(buf)\n",
            "  File \"/usr/lib/python3.6/socketserver.py\", line 803, in write\n",
            "    self._sock.sendall(b)\n",
            "ConnectionResetError: [Errno 104] Connection reset by peer\n",
            "----------------------------------------\n"
          ],
          "name": "stderr"
        }
      ]
    },
    {
      "cell_type": "code",
      "metadata": {
        "id": "VNEL4CCcS0Oj",
        "colab_type": "code",
        "colab": {}
      },
      "source": [
        ""
      ],
      "execution_count": 0,
      "outputs": []
    }
  ]
}