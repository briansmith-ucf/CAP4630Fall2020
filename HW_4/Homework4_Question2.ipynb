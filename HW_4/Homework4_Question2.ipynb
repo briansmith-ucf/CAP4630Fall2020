{
  "nbformat": 4,
  "nbformat_minor": 0,
  "metadata": {
    "colab": {
      "name": "Homework4_Question2.ipynb",
      "provenance": [],
      "collapsed_sections": []
    },
    "kernelspec": {
      "name": "python3",
      "display_name": "Python 3"
    }
  },
  "cells": [
    {
      "cell_type": "markdown",
      "metadata": {
        "id": "yK_Bmsbnh38E",
        "colab_type": "text"
      },
      "source": [
        "#Question 2\n",
        "\n",
        "Using only numpy, implement the function maxpooling2d. It takes as input input_mat and s and outputs output_mat. The variables input_mat and output_mat are square matrices and s is an integer. It should compute the maxpooling operation on input_mat using window of shape s times s.\n",
        "\n",
        "Source: https://stackoverflow.com/questions/54962004/implement-max-mean-poolingwith-stride-with-numpy"
      ]
    },
    {
      "cell_type": "code",
      "metadata": {
        "id": "HsyKNX37hzs8",
        "colab_type": "code",
        "colab": {}
      },
      "source": [
        "import numpy as np\n",
        "\n",
        "def maxpooling2d(input_mat, s):\n",
        "  matrix = input_mat\n",
        "\n",
        "  if (matrix.shape[0] != matrix.shape[1]):\n",
        "      if (matrix.shape[0] > matrix.shape[1]):\n",
        "        while (matrix.shape[1] != matrix.shape[0]):\n",
        "          zeroes = np.zeros((math.shape[0]), 1)\n",
        "          matrix = np.append(matrix, zeroes, 1)\n",
        "\n",
        "      else:\n",
        "        while (matrix.shape[0] != matrix.shape[1]):\n",
        "          zeroes = np.zeros((1, matrix.shape[1]))\n",
        "          matrix = np.append(matrix, zeroes, 0)\n",
        "  \n",
        "  out_shape = ((matrix.shape[0] - s)//2 + 1, (matrix.shape[1] - s)//2 + 1)\n",
        "\n",
        "  s_size = (s, s)\n",
        "\n",
        "  Mat_w = np.lib.stride_tricks.as_strided(matrix, shape = out_shape + s_size, strides = (2 * matrix.strides[0], 2 * matrix.strides[1]) + matrix.strides)\n",
        "  Mat_w = Mat_w.reshape(-1, *s_size)\n",
        "\n",
        "  return Mat_w.max(axis=(1,2)).reshape(out_shape)"
      ],
      "execution_count": 0,
      "outputs": []
    },
    {
      "cell_type": "markdown",
      "metadata": {
        "id": "3UgIO_DdityA",
        "colab_type": "text"
      },
      "source": [
        "#Test Case Output"
      ]
    },
    {
      "cell_type": "code",
      "metadata": {
        "id": "KFF1Fe_Bivr2",
        "colab_type": "code",
        "colab": {
          "base_uri": "https://localhost:8080/",
          "height": 136
        },
        "outputId": "4280bbda-2b60-4e6a-bfcb-1b84fe5525f5"
      },
      "source": [
        "import skimage.measure\n",
        "\n",
        "input_mat = []\n",
        "expected_mat = []\n",
        "s = []\n",
        "input_mat.append(np.array([[1, 2, 1, 2],\n",
        "                      [2, 4, 2, 1],\n",
        "                      [1, 2, 4, 2],\n",
        "                      [2, 1, 2, 1]]))\n",
        "s.append(2)\n",
        "\n",
        "expected_mat.append(np.array([[4, 2],\n",
        "                                [2, 4]]))\n",
        "\n",
        "input_mat.append(np.array([[1, 2, 1, 2, 4, 5],\n",
        "                      [2, 4, 2, 1, 0, 3],\n",
        "                      [1, 2, 4, 2, 4, 5],\n",
        "                      [2, 1, 2, 1, 2, 1],\n",
        "                      [1, 1, 2, 3, 1, 2],\n",
        "                      [1, 1, 2, 3, 1, 2]]))\n",
        "s.append(2)\n",
        "\n",
        "expected_mat.append([[4, 2, 5],\n",
        " [2, 4, 5],\n",
        " [1, 3, 2]])\n",
        "\n",
        "\n",
        "for i in range(len(input_mat)):\n",
        "  # uncomment top line and comment second line to test code\n",
        "  output_mat = maxpooling2d(input_mat[i], s[i])\n",
        "  output_mat = skimage.measure.block_reduce(input_mat[i], (s[i],s[i]), np.max)\n",
        "\n",
        "  print(output_mat)\n",
        "\n",
        "  if np.array_equal(output_mat, expected_mat[i]):\n",
        "    print(\"Correct output!\")\n",
        "  else:\n",
        "    print(\"Incorrect output!\")\n"
      ],
      "execution_count": 4,
      "outputs": [
        {
          "output_type": "stream",
          "text": [
            "[[4 2]\n",
            " [2 4]]\n",
            "Correct output!\n",
            "[[4 2 5]\n",
            " [2 4 5]\n",
            " [1 3 2]]\n",
            "Correct output!\n"
          ],
          "name": "stdout"
        }
      ]
    }
  ]
}