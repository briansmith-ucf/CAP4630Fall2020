{
  "nbformat": 4,
  "nbformat_minor": 0,
  "metadata": {
    "colab": {
      "name": "AI_Homework1.ipynb",
      "provenance": [],
      "collapsed_sections": [],
      "authorship_tag": "ABX9TyPaleThthmv0kJVe2D9sdsE",
      "include_colab_link": true
    },
    "kernelspec": {
      "name": "python3",
      "display_name": "Python 3"
    }
  },
  "cells": [
    {
      "cell_type": "markdown",
      "metadata": {
        "id": "view-in-github",
        "colab_type": "text"
      },
      "source": [
        "<a href=\"https://colab.research.google.com/github/briansmith-ucf/CAP4630Fall2020/blob/master/AI_Homework1.ipynb\" target=\"_parent\"><img src=\"https://colab.research.google.com/assets/colab-badge.svg\" alt=\"Open In Colab\"/></a>"
      ]
    },
    {
      "cell_type": "markdown",
      "metadata": {
        "id": "bKV4FQLyziXq",
        "colab_type": "text"
      },
      "source": [
        "This program takes a list of numpy arrays, representing matrices, and outputs their product."
      ]
    },
    {
      "cell_type": "markdown",
      "metadata": {
        "id": "BWjYwAVL0HZG",
        "colab_type": "text"
      },
      "source": [
        "Two matrices are incompatible if their two inner dimensions are not equal. For example if we have a 2 x 3 matrix, \n",
        "\\\n",
        "\\\n",
        "\\begin{bmatrix}\n",
        "x_0&x_1&x_2\\\\\n",
        "x_3&x_4&x_5\\\\\n",
        "\\end{bmatrix} \n",
        "and a 3 x 2 matrix,\n",
        "\\\n",
        "\\\n",
        "\\begin{bmatrix}\n",
        "y_0&y_1\\\\\n",
        "y_2&y_3\\\\\n",
        "y_4&y_5\\\\\n",
        "\\end{bmatrix}\n",
        "\\\n",
        "they can be multiplied because the inner dimensions match for a resulting 2 x 2 matrix, \n",
        "\\\n",
        "\\\n",
        "\\begin{bmatrix}\n",
        "z_0&z_1\\\\\n",
        "z_2&z_3\\\\\n",
        "\\end{bmatrix}\n",
        "\\\n",
        "where $z_0...z_3$ are the resulting numbers from the multiplication."
      ]
    },
    {
      "cell_type": "markdown",
      "metadata": {
        "id": "3vJ2DOfx19WM",
        "colab_type": "text"
      },
      "source": [
        ""
      ]
    },
    {
      "cell_type": "code",
      "metadata": {
        "id": "Qr28KS-p5YVz",
        "colab_type": "code",
        "colab": {}
      },
      "source": [
        "import numpy as np\n",
        "\n",
        "def multiply_matrices(matrices):\n",
        "  result = 1;\n",
        "  \n",
        "  for i in range(len(matrices) - 1):\n",
        "    # If two matrices are incompatible, tell the user the incompatible matrices and continues\n",
        "    if (matrices[i].shape[1] != matrices[i + 1].shape[0]):\n",
        "        print(\"Incompatible matrices:\\n Matrix 1 =\\n\", matrices[i], \"\\nMatrix 2 =\\n\", matrices[i + 1])\n",
        "        continue\n",
        "\n",
        "    result = np.dot(matrices[i], matrices[i + 1])\n",
        "\n",
        "  return result\n",
        "  \n"
      ],
      "execution_count": 0,
      "outputs": []
    },
    {
      "cell_type": "markdown",
      "metadata": {
        "id": "9DxL6k1NzfaV",
        "colab_type": "text"
      },
      "source": [
        ""
      ]
    }
  ]
}